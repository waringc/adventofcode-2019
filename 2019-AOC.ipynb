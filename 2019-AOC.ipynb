{
 "cells": [
  {
   "cell_type": "markdown",
   "metadata": {},
   "source": [
    "# Advent of Code 2019\n",
    "\n",
    "\n",
    "My Solutions to 2019 Advent of Code (http://adventofcode.com) in Python.\n",
    "\n",
    "They may not be all perfect but they work!"
   ]
  },
  {
   "cell_type": "code",
   "execution_count": 707,
   "metadata": {},
   "outputs": [],
   "source": [
    "import math\n",
    "import numpy as np\n",
    "import operator\n",
    "from collections import Counter\n",
    "from collections import defaultdict\n",
    "import re\n",
    "import copy\n",
    "from math import gcd\n",
    "import importlib\n",
    "\n",
    "import numpy as np\n",
    "import matplotlib.pyplot as plt\n",
    "\n",
    "import intcode_computer as ic"
   ]
  },
  {
   "cell_type": "markdown",
   "metadata": {},
   "source": [
    "Quick function for loading files"
   ]
  },
  {
   "cell_type": "code",
   "execution_count": 5,
   "metadata": {},
   "outputs": [],
   "source": [
    "def load_data(day):\n",
    "    filename = \"input/\"+ day + \"-input.txt\"\n",
    "\n",
    "    try:\n",
    "        return open(filename)\n",
    "    except FileNotFoundError:\n",
    "        print(\"Failed to load file\")"
   ]
  },
  {
   "cell_type": "markdown",
   "metadata": {},
   "source": [
    "## Day 1- The Tyranny of the Rocket Equation\n",
    "\n",
    "#### Part 1\n",
    "\n",
    "Pretty straight forward.  Load file for each module divide by 3 rounding down, subtract 2, and add to total sum."
   ]
  },
  {
   "cell_type": "code",
   "execution_count": 6,
   "metadata": {},
   "outputs": [
    {
     "data": {
      "text/plain": [
       "3372756"
      ]
     },
     "execution_count": 6,
     "metadata": {},
     "output_type": "execute_result"
    }
   ],
   "source": [
    "def fuel_counter(modules):\n",
    "    modules = [int(i) for i in modules.split('\\n') if i != \"\"]\n",
    "    total = 0\n",
    "    \n",
    "    for module in modules:\n",
    "        total += math.floor(module/3) - 2\n",
    "            \n",
    "    return total\n",
    "\n",
    "#test\n",
    "assert fuel_counter(\"12\") == 2\n",
    "assert fuel_counter(\"14\") == 2\n",
    "assert fuel_counter(\"1969\") == 654\n",
    "assert fuel_counter(\"100756\") ==33583\n",
    "fuel_counter(load_data(\"day1\").read())"
   ]
  },
  {
   "cell_type": "markdown",
   "metadata": {},
   "source": [
    "#### Part 2\n",
    "\n",
    "Adjust to repeat dividing by 3, rounding down, and subtracting 2 until fuel cost is zero or below."
   ]
  },
  {
   "cell_type": "code",
   "execution_count": 7,
   "metadata": {},
   "outputs": [
    {
     "data": {
      "text/plain": [
       "5056279"
      ]
     },
     "execution_count": 7,
     "metadata": {},
     "output_type": "execute_result"
    }
   ],
   "source": [
    "def fuel_counter2(modules):\n",
    "    modules = [int(i) for i in modules.split('\\n') if i != \"\"]\n",
    "    total = 0\n",
    "    \n",
    "    for module in modules:\n",
    "        \n",
    "        while module >= 0:\n",
    "            fuel = math.floor(module/3) - 2\n",
    "            \n",
    "            if fuel > 0:\n",
    "                total += fuel\n",
    "                \n",
    "            module = fuel\n",
    "            \n",
    "    return total\n",
    "\n",
    "#test\n",
    "assert fuel_counter2(\"14\") == 2\n",
    "assert fuel_counter2(\"1969\") == 966\n",
    "assert fuel_counter2(\"100756\") ==50346\n",
    "fuel_counter2(load_data(\"day1\").read())"
   ]
  },
  {
   "cell_type": "markdown",
   "metadata": {},
   "source": [
    "## Day 2 - 1202 Program Alarm \n",
    "\n",
    "#### Part 1\n",
    "\n",
    "Implement the opcode program with an option to replace the initial noun and verb."
   ]
  },
  {
   "cell_type": "code",
   "execution_count": 8,
   "metadata": {},
   "outputs": [
    {
     "data": {
      "text/plain": [
       "3706713"
      ]
     },
     "execution_count": 8,
     "metadata": {},
     "output_type": "execute_result"
    }
   ],
   "source": [
    "def gravity_assist(opcodes, noun, verb):\n",
    "    opcodes = [int(i) for i in opcodes.split(',')]\n",
    "    \n",
    "    #restore values\n",
    "\n",
    "    opcodes[1] = noun\n",
    "    opcodes[2] = verb\n",
    "    \n",
    "    head = 0\n",
    "    \n",
    "    while head < len(opcodes):\n",
    "\n",
    "        if opcodes[head] == 99:\n",
    "            break\n",
    "            \n",
    "        elif opcodes[head] == 1:\n",
    "            opcodes[opcodes[head + 3]] = opcodes[opcodes[head + 1]] + opcodes[opcodes[head + 2]]\n",
    "            \n",
    "        elif opcodes[head] == 2:\n",
    "            opcodes[opcodes[head + 3]] = opcodes[opcodes[head + 1]] * opcodes[opcodes[head + 2]]\n",
    "            \n",
    "        head += 4\n",
    "\n",
    "    return opcodes[0]\n",
    "\n",
    "assert gravity_assist(\"1,0,0,0,99\",0,0) == 2\n",
    "assert gravity_assist(\"2,3,0,3,99\",3,0) == 2\n",
    "assert gravity_assist(\"2,4,4,5,99,0\",4,4) == 2\n",
    "assert gravity_assist(\"1,1,1,4,99,5,6,0,99\",1,1) == 30\n",
    "assert gravity_assist(\"1,9,10,3,2,3,11,0,99,30,40,50\",9,10) == 3500\n",
    "\n",
    "#answer\n",
    "gravity_assist(load_data(\"day2\").read(), 12,2)"
   ]
  },
  {
   "cell_type": "markdown",
   "metadata": {},
   "source": [
    "#### Part 2\n",
    "\n",
    "Cheated a bit here.  Fastest solution was to increment noun and verb and see impact on output.  Found incrementing each had an independent step size making it easy to manually find a solution for the target value."
   ]
  },
  {
   "cell_type": "code",
   "execution_count": 9,
   "metadata": {},
   "outputs": [
    {
     "name": "stdout",
     "output_type": "stream",
     "text": [
      "8609\n"
     ]
    }
   ],
   "source": [
    "assert gravity_assist(load_data(\"day2\").read(), 86, 9) == 19690720\n",
    "\n",
    "#answer\n",
    "print(str(100 * 86 + 9))"
   ]
  },
  {
   "cell_type": "markdown",
   "metadata": {},
   "source": [
    "## Day 3 - Crossed Wires\n",
    "\n",
    "#### Part 1\n",
    "\n",
    "The approach is to build a set of points for wire1 and wire2 representing the paths of each wire.  We can then find the common points in the two sets and determine which is closest to the central port (0,0)."
   ]
  },
  {
   "cell_type": "code",
   "execution_count": 10,
   "metadata": {},
   "outputs": [
    {
     "data": {
      "text/plain": [
       "2193"
      ]
     },
     "execution_count": 10,
     "metadata": {},
     "output_type": "execute_result"
    }
   ],
   "source": [
    "#build up a set of points for the wire path based on the wire vectors\n",
    "def get_wire_points(path):\n",
    "    \n",
    "    points = set()\n",
    "    loc = (0,0)\n",
    "    \n",
    "    for seg in path:\n",
    "        direction = seg[0]\n",
    "        mag = int(seg[1:])\n",
    "        \n",
    "        for i in range(mag):\n",
    "            x,y = loc\n",
    "            \n",
    "            if direction == 'R':\n",
    "                x+=1\n",
    "            elif direction == 'L':\n",
    "                x-=1\n",
    "            elif direction == 'U':\n",
    "                y+= 1\n",
    "            elif direction == 'D':\n",
    "                y-=1\n",
    "                \n",
    "            loc = (x,y)\n",
    "            \n",
    "            points.add(loc)\n",
    "        \n",
    "    return points\n",
    "\n",
    "#Find common points between two wires and find the closest to the central port\n",
    "def wire_intersect(paths):\n",
    "    wire1, wire2 = paths.split('\\n')[:-1]\n",
    "    \n",
    "    wire1 = wire1.split(\",\")\n",
    "    wire2 = wire2.split(\",\")\n",
    "    \n",
    "    wire1_set = get_wire_points(wire1)\n",
    "    wire2_set = get_wire_points(wire2)\n",
    "    \n",
    "    intersections = wire1_set.intersection(wire2_set)\n",
    "    \n",
    "    closest_distance = float(\"Inf\")\n",
    "    \n",
    "    for intersection in intersections:\n",
    "        if (abs(intersection[0]) + abs(intersection[1])) < closest_distance:\n",
    "            closest_distance = (abs(intersection[0]) + abs(intersection[1]))\n",
    "\n",
    "    return closest_distance\n",
    "\n",
    "wire_intersect(load_data(\"day3\").read())"
   ]
  },
  {
   "cell_type": "markdown",
   "metadata": {},
   "source": [
    "#### Part 2\n",
    "\n",
    "Number of steps by the wires now matters.  Use a dictionary where the keys are each point a wire travels and the values are the minimum number of steps to that point.  Find the intersection of the two wires with the smallest number of total steps."
   ]
  },
  {
   "cell_type": "code",
   "execution_count": 11,
   "metadata": {},
   "outputs": [
    {
     "data": {
      "text/plain": [
       "63526"
      ]
     },
     "execution_count": 11,
     "metadata": {},
     "output_type": "execute_result"
    }
   ],
   "source": [
    "#build up a set of points for the wire path based on the wire vectors\n",
    "#use a hash table and count steps taken to reach point\n",
    "def get_wire_points_hash(path):\n",
    "    \n",
    "    points = {}\n",
    "    loc = (0,0)\n",
    "    steps = 0\n",
    "    \n",
    "    for seg in path:\n",
    "        direction = seg[0]\n",
    "        mag = int(seg[1:])\n",
    "        \n",
    "        for i in range(mag):\n",
    "            x,y = loc\n",
    "            \n",
    "            if direction == 'R':\n",
    "                x+=1\n",
    "            elif direction == 'L':\n",
    "                x-=1\n",
    "            elif direction == 'U':\n",
    "                y+= 1\n",
    "            elif direction == 'D':\n",
    "                y-=1\n",
    "                \n",
    "            loc = (x,y)\n",
    "            steps += 1\n",
    "            \n",
    "            if loc not in points:\n",
    "                points[loc] = steps\n",
    "        \n",
    "    return points\n",
    "\n",
    "#Find common points between two wires and find the closest to the central port\n",
    "def wire_intersect_hash(paths):\n",
    "    wire1, wire2 = paths.split('\\n')[:-1]\n",
    "    \n",
    "    wire1 = wire1.split(\",\")\n",
    "    wire2 = wire2.split(\",\")\n",
    "    \n",
    "    wire1_dict = get_wire_points_hash(wire1)\n",
    "    wire2_dict = get_wire_points_hash(wire2)\n",
    "    \n",
    "    intersections = set(wire1_dict.keys()).intersection(wire2_dict.keys())\n",
    "    \n",
    "    closest_distance = float(\"Inf\")\n",
    "    \n",
    "    for intersection in intersections:\n",
    "        if (wire1_dict[intersection] + wire2_dict[intersection]) < closest_distance:\n",
    "            closest_distance = wire1_dict[intersection] + wire2_dict[intersection]\n",
    "\n",
    "    return closest_distance\n",
    "\n",
    "wire_intersect_hash(load_data(\"day3\").read())"
   ]
  },
  {
   "cell_type": "markdown",
   "metadata": {},
   "source": [
    "## Day 4 - Secure Container\n",
    "\n",
    "#### Part 1\n",
    "\n",
    "Brute force through combinations.  Check for at least one repeated double and confirm no value is less that the value before it.\n",
    "\n",
    "If range was larger could have solved using a recursive solution."
   ]
  },
  {
   "cell_type": "code",
   "execution_count": 12,
   "metadata": {},
   "outputs": [
    {
     "data": {
      "text/plain": [
       "1716"
      ]
     },
     "execution_count": 12,
     "metadata": {},
     "output_type": "execute_result"
    }
   ],
   "source": [
    "def password_count(low, high):\n",
    "    passwords = 0\n",
    "    \n",
    "    for pw in range(low, high + 1):\n",
    "        pw_str = '0' + str(pw) + '0'\n",
    "        valid = False\n",
    "        \n",
    "        for i in range(1,len(pw_str) - 1):\n",
    "            \n",
    "            if pw_str[i] < pw_str[i - 1]:\n",
    "                valid = False\n",
    "                break\n",
    "                \n",
    "            elif pw_str[i] ==  pw_str[i + 1]:\n",
    "                valid = True\n",
    "            \n",
    "        if valid:\n",
    "            passwords += 1\n",
    "            \n",
    "    return passwords\n",
    "\n",
    "password_count(165432, 707912)"
   ]
  },
  {
   "cell_type": "markdown",
   "metadata": {},
   "source": [
    "#### Part 2\n",
    "\n",
    "Modify to make sure at least one repeated set of numbers isn't part of a triplet which would disqualify the combination."
   ]
  },
  {
   "cell_type": "code",
   "execution_count": 13,
   "metadata": {},
   "outputs": [
    {
     "data": {
      "text/plain": [
       "1163"
      ]
     },
     "execution_count": 13,
     "metadata": {},
     "output_type": "execute_result"
    }
   ],
   "source": [
    "def password_count2(low, high):\n",
    "    passwords = 0\n",
    "    p = []\n",
    "    \n",
    "    for pw in range(low, high + 1):\n",
    "        pw_str = '0' + str(pw) + '00'\n",
    "        valid = False\n",
    "        \n",
    "        for i in range(1,len(pw_str) - 2):\n",
    "            \n",
    "            if pw_str[i] < pw_str[i - 1]:\n",
    "                valid = False\n",
    "                break\n",
    "                \n",
    "            elif pw_str[i] ==  pw_str[i + 1] and pw_str[i + 1] != pw_str[i + 2] and pw_str[i] != pw_str[i-1]:\n",
    "                valid = True\n",
    "            \n",
    "        if valid:\n",
    "            passwords += 1\n",
    "            \n",
    "    return passwords\n",
    "\n",
    "password_count2(165432, 707912)"
   ]
  },
  {
   "cell_type": "markdown",
   "metadata": {},
   "source": [
    "## Day 5 - Sunny with a Chance of Asteroids\n",
    "\n",
    "#### Part 1 & 2\n",
    "\n",
    "Update the intcode computer with the new commands and run the updated computer."
   ]
  },
  {
   "cell_type": "code",
   "execution_count": 22,
   "metadata": {},
   "outputs": [
    {
     "name": "stdout",
     "output_type": "stream",
     "text": [
      "Loaded computer of length: 678\n",
      "Output: 0\n",
      "Output: 0\n",
      "Output: 0\n",
      "Output: 0\n",
      "Output: 0\n",
      "Output: 0\n",
      "Output: 0\n",
      "Output: 0\n",
      "Output: 0\n",
      "Output: 7286649\n"
     ]
    }
   ],
   "source": [
    "#create computer\n",
    "test_computer = ic.intcode_computer(load_data(\"day5\").read())\n",
    "\n",
    "#answer\n",
    "print(\"Output: \" + test_computer.run([1]))\n",
    "\n",
    "while test_computer.getInstruct() != 99:\n",
    "    print(\"Output: \" + test_computer.run())"
   ]
  },
  {
   "cell_type": "markdown",
   "metadata": {},
   "source": [
    "## Day 6 - Universal Orbit Map\n",
    "\n",
    "#### Part 1\n",
    "\n",
    "First build up an adjacency list describing the orbit network.  We can then traverse the network using DFS to find the number of orbits."
   ]
  },
  {
   "cell_type": "code",
   "execution_count": 23,
   "metadata": {},
   "outputs": [
    {
     "data": {
      "text/plain": [
       "308790"
      ]
     },
     "execution_count": 23,
     "metadata": {},
     "output_type": "execute_result"
    }
   ],
   "source": [
    "def orbit_checksum(orbits):\n",
    "    orbits = [i for i in orbits.split('\\n')[:-1]]\n",
    "    adj = {}\n",
    "\n",
    "    #build up adj list for orbits analysis\n",
    "    for orbit in orbits:\n",
    "        centre, orbiter = orbit.split(')')\n",
    "        if centre in adj:\n",
    "            adj[centre] = adj[centre]+ [orbiter]\n",
    "            \n",
    "        else:\n",
    "            adj[centre] = [orbiter]\n",
    "            \n",
    "    #answer for total orbits\n",
    "    answer = 0\n",
    "    \n",
    "    stack = [['COM', 0]]\n",
    "        \n",
    "    while stack:\n",
    "        planet, depth = stack.pop(0)\n",
    "        \n",
    "        #if planet is at a terminus add depth\n",
    "        answer += depth\n",
    "        \n",
    "        if planet not in adj:\n",
    "            continue\n",
    "        \n",
    "        else:\n",
    "            #add to stack planets orbiting the planet\n",
    "            for p2 in adj[planet]:\n",
    "                stack.append([p2, depth + 1])\n",
    "            \n",
    "    return answer\n",
    "        \n",
    "    \n",
    "    \n",
    "    \n",
    "#answer\n",
    "assert orbit_checksum(load_data(\"day6test\").read()) == 42\n",
    "orbit_checksum(load_data(\"day6\").read())"
   ]
  },
  {
   "cell_type": "markdown",
   "metadata": {},
   "source": [
    "#### Part 2\n",
    "\n",
    "Traverse the network to find the shortest distance between us and Santa."
   ]
  },
  {
   "cell_type": "code",
   "execution_count": 24,
   "metadata": {},
   "outputs": [
    {
     "data": {
      "text/plain": [
       "472"
      ]
     },
     "execution_count": 24,
     "metadata": {},
     "output_type": "execute_result"
    }
   ],
   "source": [
    "def orbit_distance(orbits):\n",
    "    orbits = [i for i in orbits.split('\\n')[:-1]]\n",
    "    adj = {}\n",
    "\n",
    "    #build up adj list for orbits analysis\n",
    "    for orbit in orbits:\n",
    "        centre, orbiter = orbit.split(')')\n",
    "        \n",
    "        if centre in adj:\n",
    "            adj[centre] = adj[centre]+ [orbiter]\n",
    "            \n",
    "        else:\n",
    "            adj[centre] = [orbiter]\n",
    "            \n",
    "        \n",
    "        if orbiter in adj:\n",
    "            adj[orbiter] = adj[orbiter] + [centre]\n",
    "            \n",
    "        else:\n",
    "            adj[orbiter] = [centre]\n",
    "            \n",
    "    \n",
    "    stack = [['YOU', 0]]\n",
    "    visited = set()\n",
    "    answer = float('Inf')\n",
    "        \n",
    "    while stack:\n",
    "        planet, depth = stack.pop(0)\n",
    "        visited.add(planet)\n",
    "        \n",
    "        if planet == 'SAN':\n",
    "            answer = min(answer,depth)\n",
    "\n",
    "        #add to stack planets orbiting the planet\n",
    "        for p2 in adj[planet]:\n",
    "            if p2 not in visited:\n",
    "                stack.append([p2, depth + 1])\n",
    "            \n",
    "    return answer - 2\n",
    "\n",
    "orbit_distance(load_data(\"day6\").read())"
   ]
  },
  {
   "cell_type": "markdown",
   "metadata": {},
   "source": [
    "## Day 7 - Amplification Circuit\n",
    "\n",
    "#### Part 1"
   ]
  },
  {
   "cell_type": "code",
   "execution_count": 2370,
   "metadata": {},
   "outputs": [],
   "source": [
    "#generate all permutations for phase settings\n",
    "def phase_permutations(vals):\n",
    "    \n",
    "    stack = [[[],vals]]\n",
    "    answer = []\n",
    "    \n",
    "    while stack:\n",
    "        perm, nums = stack.pop(0)\n",
    "        \n",
    "        if not nums:\n",
    "            answer.append(perm)\n",
    "            continue\n",
    "        \n",
    "        for num in nums:\n",
    "            temp_perm = perm[:]\n",
    "            temp_num = nums[:]\n",
    "                    \n",
    "            temp_perm.append(num)\n",
    "            temp_num.remove(num)\n",
    "            stack.append([temp_perm,temp_num])\n",
    "            \n",
    "    return answer"
   ]
  },
  {
   "cell_type": "code",
   "execution_count": 2371,
   "metadata": {},
   "outputs": [
    {
     "data": {
      "text/plain": [
       "30940"
      ]
     },
     "execution_count": 2371,
     "metadata": {},
     "output_type": "execute_result"
    }
   ],
   "source": [
    "#part one solution\n",
    "def solve_amplifiers(permutations, opcodes):\n",
    "    answer = float(\"-Inf\")\n",
    "\n",
    "    for permutation in permutations:\n",
    "        output = 0\n",
    "\n",
    "        for phase in permutation:\n",
    "            test_computer_amp = ic.intcode_computer(opcodes)\n",
    "            output = int(test_computer_amp.run([phase, output]))\n",
    "   \n",
    "        answer = max(answer, output)\n",
    "        \n",
    "    return answer\n",
    "\n",
    "solve_amplifiers(phase_permutations([0,1,2,3,4]), load_data(\"day7\").read())"
   ]
  },
  {
   "cell_type": "markdown",
   "metadata": {},
   "source": [
    "#### Part 2\n",
    "\n",
    "This one got tricky since we need to maintain the state of each amplifier as the signal loops through the amplifier array.  I had to create an amplifier object for each amplifier to track the state of each amplifier."
   ]
  },
  {
   "cell_type": "code",
   "execution_count": 2372,
   "metadata": {},
   "outputs": [
    {
     "data": {
      "text/plain": [
       "76211147"
      ]
     },
     "execution_count": 2372,
     "metadata": {},
     "output_type": "execute_result"
    }
   ],
   "source": [
    "#part one solution\n",
    "def solve_amplifiers2(permutations, opcodes):\n",
    "    answer = float(\"-Inf\")\n",
    "    \n",
    "    for permutation in permutations:\n",
    "        amp_arr = []\n",
    "        \n",
    "        amp_arr.append(ic.intcode_computer(opcodes))\n",
    "        amp_arr[-1].run([permutation[0]])\n",
    "        \n",
    "        amp_arr.append(ic.intcode_computer(opcodes))\n",
    "        amp_arr[-1].run([permutation[1]])\n",
    "        \n",
    "        amp_arr.append(ic.intcode_computer(opcodes))\n",
    "        amp_arr[-1].run([permutation[2]])\n",
    "        \n",
    "        amp_arr.append(ic.intcode_computer(opcodes))\n",
    "        amp_arr[-1].run([permutation[3]])\n",
    "        \n",
    "        amp_arr.append(ic.intcode_computer(opcodes))\n",
    "        amp_arr[-1].run([permutation[4]])\n",
    "        \n",
    "        output = 0\n",
    "        e_signal = 0\n",
    "        \n",
    "        while output != None:\n",
    "            for amp in amp_arr:\n",
    "                \n",
    "                output = amp.run([output]) \n",
    "                \n",
    "                if output:\n",
    "                    output = int(output)\n",
    "                    \n",
    "                else:\n",
    "                    break\n",
    "                    \n",
    "            if output:    \n",
    "                e_signal = max(output, e_signal) \n",
    "\n",
    "        answer = max(answer, e_signal)\n",
    "        \n",
    "    return answer\n",
    "\n",
    "solve_amplifiers2(phase_permutations([5,6,7,8,9]), load_data(\"day7\").read())"
   ]
  },
  {
   "cell_type": "markdown",
   "metadata": {},
   "source": [
    "## Day 8 - Space Image Format\n",
    "\n",
    "#### Part 1\n",
    "\n",
    "Go through each pixel one by one to build up image layers.  Then find the layer that has the most zeros to satisfy the checksum to ensure the image is not corrupted."
   ]
  },
  {
   "cell_type": "code",
   "execution_count": 58,
   "metadata": {},
   "outputs": [
    {
     "data": {
      "text/plain": [
       "2806"
      ]
     },
     "execution_count": 58,
     "metadata": {},
     "output_type": "execute_result"
    }
   ],
   "source": [
    "def build_layers(pixels, x, y):\n",
    "    pixels = pixels[:-1]\n",
    "    layer_count = int(len(pixels)/(x*y))\n",
    "\n",
    "    layers = [[[0 for _ in range(x)] for _ in range(y)] for _ in range(layer_count)]\n",
    "    \n",
    "    for i in range(len(pixels)):\n",
    "        layer = i//(x*y)\n",
    "        row = (i - (layer * y* x)) // x\n",
    "        col = (i - (layer * y* x)) % x\n",
    "        \n",
    "        layers[layer][row][col]  = int(pixels[i])\n",
    "    \n",
    "    \n",
    "    return layers\n",
    "\n",
    "def check_corruption(layers):\n",
    "    min_zeros = float(\"Inf\")\n",
    "    min_multi = 0\n",
    "    \n",
    "    for layer in layers:\n",
    "        counts = [0,0,0]\n",
    "        \n",
    "        for row in layer:\n",
    "            for pixel in row:\n",
    "                counts[pixel] += 1\n",
    "                \n",
    "        if counts[0] < min_zeros:\n",
    "            min_zeros = counts[0]\n",
    "            min_multi = counts[1] * counts[2]\n",
    "                \n",
    "            \n",
    "    \n",
    "    return min_multi\n",
    "\n",
    "layers = build_layers(load_data(\"day8\").read(), 25, 6)\n",
    "\n",
    "check_corruption(layers)"
   ]
  },
  {
   "cell_type": "markdown",
   "metadata": {},
   "source": [
    "#### Part 2\n",
    "\n",
    "Flatten layers into a single image based on 2 = transparent, 1 = black, 0 = white."
   ]
  },
  {
   "cell_type": "code",
   "execution_count": 59,
   "metadata": {},
   "outputs": [
    {
     "data": {
      "image/png": "[encoded data removed]",
      "text/plain": [
       "<Figure size 432x288 with 1 Axes>"
      ]
     },
     "metadata": {
      "needs_background": "light"
     },
     "output_type": "display_data"
    }
   ],
   "source": [
    "def flatten_image(layers):\n",
    "    image = layers[0]\n",
    "    \n",
    "    for layer in layers[1:]:\n",
    "        for i in range(len(image)):\n",
    "            for j in range(len(image[0])):\n",
    "                \n",
    "                if image[i][j] == 2:\n",
    "                    image[i][j] = layer[i][j]\n",
    "                    \n",
    "    return image\n",
    "\n",
    "image = flatten_image(layers)\n",
    "array = np.array(image, dtype=np.uint8)\n",
    "\n",
    "plt.imshow(array,interpolation='nearest')\n",
    "plt.show()"
   ]
  },
  {
   "cell_type": "markdown",
   "metadata": {},
   "source": [
    "## Day 9 - Sensor Boost\n",
    "\n",
    "#### Part 1 & Part 2"
   ]
  },
  {
   "cell_type": "code",
   "execution_count": 63,
   "metadata": {},
   "outputs": [
    {
     "name": "stdout",
     "output_type": "stream",
     "text": [
      "Loaded computer of length: 16\n",
      "Output: 109\n"
     ]
    }
   ],
   "source": [
    "#test program 1\n",
    "test1 = ic.intcode_computer('109,1,204,-1,1001,100,1,100,1008,100,16,101,1006,101,0,99')\n",
    "print(\"Output: \" + test1.run())"
   ]
  },
  {
   "cell_type": "code",
   "execution_count": 61,
   "metadata": {},
   "outputs": [
    {
     "name": "stdout",
     "output_type": "stream",
     "text": [
      "Loaded computer of length: 8\n"
     ]
    },
    {
     "data": {
      "text/plain": [
       "'1219070632396864'"
      ]
     },
     "execution_count": 61,
     "metadata": {},
     "output_type": "execute_result"
    }
   ],
   "source": [
    "#test program 2\n",
    "test2 = ic.intcode_computer('1102,34915192,34915192,7,4,7,99,0')\n",
    "print(\"Output: \" + test2.run())"
   ]
  },
  {
   "cell_type": "code",
   "execution_count": 64,
   "metadata": {},
   "outputs": [
    {
     "name": "stdout",
     "output_type": "stream",
     "text": [
      "Loaded computer of length: 3\n",
      "Output: 1125899906842624\n"
     ]
    }
   ],
   "source": [
    "#test program 3\n",
    "test3 = ic.intcode_computer('104,1125899906842624,99')\n",
    "print(\"Output: \" + test3.run())"
   ]
  },
  {
   "cell_type": "code",
   "execution_count": 67,
   "metadata": {},
   "outputs": [
    {
     "name": "stdout",
     "output_type": "stream",
     "text": [
      "Loaded computer of length: 973\n",
      "Output: 3409270027\n"
     ]
    }
   ],
   "source": [
    "#Part 1 answer with input 1\n",
    "comp = ic.intcode_computer(load_data(\"day9\").read())\n",
    "print(\"Output: \" + comp.run([1]))"
   ]
  },
  {
   "cell_type": "code",
   "execution_count": 68,
   "metadata": {},
   "outputs": [
    {
     "name": "stdout",
     "output_type": "stream",
     "text": [
      "Loaded computer of length: 973\n",
      "Output: 82760\n"
     ]
    }
   ],
   "source": [
    "#Part 1 answer with input 2\n",
    "comp = ic.intcode_computer(load_data(\"day9\").read())\n",
    "print(\"Output: \" + comp.run([2]))"
   ]
  },
  {
   "cell_type": "markdown",
   "metadata": {},
   "source": [
    "## Day 10 - Monitoring Station\n",
    "\n",
    "#### Part 1\n",
    "\n",
    "Iterate through each asteroid selecting one as a candidates for the station.  Simplify each pair of vectors to their lowest common denominator. Find the asteroid with the most unique simplified vectors for the station."
   ]
  },
  {
   "cell_type": "code",
   "execution_count": 69,
   "metadata": {},
   "outputs": [
    {
     "name": "stdout",
     "output_type": "stream",
     "text": [
      "[347, (36, 26)]\n"
     ]
    }
   ],
   "source": [
    "#simplify to common denominator\n",
    "def simplify_coord(coord):\n",
    "    \n",
    "    if coord[0] == 0 and coord[1] == 0:\n",
    "        return (0,0)\n",
    "    \n",
    "    elif coord[0] == 0:\n",
    "        return (0,coord[1]/abs(coord[1]))\n",
    "    \n",
    "    elif coord[1] == 0:\n",
    "        return (coord[0]/abs(coord[0]),0)\n",
    "    \n",
    "    else:\n",
    "        gcd = math.gcd(coord[0],coord[1])\n",
    "        return (coord[0]/gcd, coord[1]/gcd)\n",
    "\n",
    "def detectable_astroids(data):\n",
    "    rows = [i for i in data.split('\\n') if i != \"\"]\n",
    "    astroids = set()\n",
    "    \n",
    "    viewablity = {}\n",
    "    \n",
    "    for i,row in enumerate(rows):\n",
    "        for j, location in enumerate(row):\n",
    "            if location == '#':\n",
    "                astroids.add((i,j))\n",
    "                \n",
    "                \n",
    "    for astroid in astroids:\n",
    "        visited_neighbour = set()\n",
    "        cur_count= 0\n",
    "        \n",
    "        for neighbour in astroids:\n",
    "            \n",
    "            #if same astroid\n",
    "            if astroid == neighbour:\n",
    "                continue\n",
    "                \n",
    "            diff = (astroid[0] - neighbour[0], astroid[1] - neighbour[1])\n",
    "            diff_simplified = simplify_coord(diff)\n",
    "            \n",
    "            if diff_simplified not in visited_neighbour:\n",
    "                cur_count += 1\n",
    "                visited_neighbour.add(diff_simplified)\n",
    "                \n",
    "        viewablity[astroid]  = cur_count\n",
    "                \n",
    "    best = -float('Inf')\n",
    "    loc = []\n",
    "    \n",
    "    for a in viewablity:\n",
    "        if viewablity[a] > best:\n",
    "            best = viewablity[a]\n",
    "            loc = a\n",
    "        \n",
    "    return [best, loc]\n",
    "\n",
    "print((detectable_astroids(load_data(\"day10\").read())))"
   ]
  },
  {
   "cell_type": "markdown",
   "metadata": {},
   "source": [
    "#### Part 2\n",
    "\n",
    "Tricky!  Start by converting coordinates from Cartesian to polar with the 'station' as the origin.  Then adjust to define 0 degrees in the polar coordinates to be vertical."
   ]
  },
  {
   "cell_type": "code",
   "execution_count": 70,
   "metadata": {},
   "outputs": [
    {
     "data": {
      "text/plain": [
       "(29, 8)"
      ]
     },
     "execution_count": 70,
     "metadata": {},
     "output_type": "execute_result"
    }
   ],
   "source": [
    "def laser_astroids(data, station):\n",
    "    #build up astroid list by angle\n",
    "    rows = [i for i in data.split('\\n') if i != \"\"]\n",
    "    astroids = set()\n",
    "    \n",
    "    astroid_angles = defaultdict(list)\n",
    "    \n",
    "    for i,row in enumerate(rows):\n",
    "        for j, location in enumerate(row):\n",
    "            if location == '#':\n",
    "                astroids.add((i,j))\n",
    "                \n",
    "    for neighbour in astroids:\n",
    "            \n",
    "        #if same astroid\n",
    "        if station == neighbour:\n",
    "            continue\n",
    "\n",
    "        diff = (station[0] - neighbour[0], station[1] - neighbour[1])\n",
    "        \n",
    "        distance = np.sqrt((diff[0]**2 + diff[1]**2))\n",
    "        angle = np.arctan2(diff[0], diff[1]) - math.pi/2\n",
    "        \n",
    "        if angle < 0:\n",
    "            angle += 2 * math.pi\n",
    "        \n",
    "        astroid_angles[angle].append([neighbour, distance])\n",
    "        \n",
    "    #sort each angle by distance from station\n",
    "    for angle in astroid_angles:\n",
    "        astroid_angles[angle] = sorted(astroid_angles[angle], key= lambda x: x[1])\n",
    "        \n",
    "    count = 0\n",
    "    \n",
    "    while count < 200:\n",
    "        \n",
    "        for angle in sorted(astroid_angles.keys()):\n",
    "            \n",
    "            if astroid_angles[angle]:\n",
    "                destroyed = astroid_angles[angle].pop(0)\n",
    "                count += 1\n",
    "            if count == 200:\n",
    "                break\n",
    "            \n",
    "    return destroyed[0]\n",
    "\n",
    "assert laser_astroids(load_data(\"day10test\").read(), (13,11)) == (2,8)\n",
    "\n",
    "laser_astroids(load_data(\"day10\").read(), (36,26))"
   ]
  },
  {
   "cell_type": "markdown",
   "metadata": {},
   "source": [
    "## Day 11 - Space Police\n",
    "\n",
    "#### Part 1\n",
    "\n",
    "Reuse intcode computer again.  Track which coordinates the robot travels to and paints white."
   ]
  },
  {
   "cell_type": "code",
   "execution_count": 71,
   "metadata": {},
   "outputs": [
    {
     "name": "stdout",
     "output_type": "stream",
     "text": [
      "Loaded computer of length: 624\n"
     ]
    }
   ],
   "source": [
    "robot = ic.intcode_computer(load_data(\"day11\").read())\n",
    "\n",
    "robot_coordinates = (0,0)\n",
    "white_locations = set()\n",
    "all_painted = set()\n",
    "\n",
    "robot_dirs = [(0,1), (1,0), (0,-1), (-1,0)]\n",
    "robot_dir = 0"
   ]
  },
  {
   "cell_type": "code",
   "execution_count": 72,
   "metadata": {},
   "outputs": [
    {
     "name": "stdout",
     "output_type": "stream",
     "text": [
      "1964\n"
     ]
    }
   ],
   "source": [
    "while robot.getInstruct() != 99:\n",
    "    \n",
    "        if robot_coordinates in white_locations:\n",
    "            output1 = robot.run([1])\n",
    "        else:\n",
    "            output1 = robot.run([0])\n",
    "            \n",
    "        output2 = robot.run()\n",
    "        \n",
    "        if output1 == '1':\n",
    "            white_locations.add(robot_coordinates)\n",
    "            all_painted.add(robot_coordinates)\n",
    "            \n",
    "        elif output1 == '0' and robot_coordinates in white_locations:\n",
    "            white_locations.remove(robot_coordinates)\n",
    "            \n",
    "        \n",
    "        if output2 == '0':\n",
    "            robot_dir -= 1\n",
    "            robot_dir %= 4\n",
    "            \n",
    "        else:\n",
    "            robot_dir += 1\n",
    "            robot_dir %= 4\n",
    "            \n",
    "        new_x = robot_coordinates[0] + robot_dirs[robot_dir][0]\n",
    "        new_y = robot_coordinates[1] + robot_dirs[robot_dir][1]\n",
    "        \n",
    "        robot_coordinates = (new_x, new_y)\n",
    "\n",
    "print(len(all_painted))"
   ]
  },
  {
   "cell_type": "markdown",
   "metadata": {},
   "source": [
    "#### Part 2\n",
    "\n",
    "Start with robot starting on white and generate image of robot path."
   ]
  },
  {
   "cell_type": "code",
   "execution_count": 73,
   "metadata": {},
   "outputs": [
    {
     "name": "stdout",
     "output_type": "stream",
     "text": [
      "Loaded computer of length: 624\n"
     ]
    },
    {
     "data": {
      "image/png": "[encoded data removed]",
      "text/plain": [
       "<Figure size 432x288 with 1 Axes>"
      ]
     },
     "metadata": {
      "needs_background": "light"
     },
     "output_type": "display_data"
    }
   ],
   "source": [
    "robot = ic.intcode_computer(load_data(\"day11\").read())\n",
    "\n",
    "robot_coordinates = (0,0)\n",
    "white_locations = set()\n",
    "white_locations.add((0,0))\n",
    "\n",
    "robot_dirs = [(0,1), (1,0), (0,-1), (-1,0)]\n",
    "robot_dir = 0\n",
    "\n",
    "while robot.getInstruct() != 99:\n",
    "    \n",
    "        if robot_coordinates in white_locations:\n",
    "            output1 = robot.run([1])\n",
    "        else:\n",
    "            output1 = robot.run([0])\n",
    "            \n",
    "        output2 = robot.run()\n",
    "        \n",
    "        if output1 == '1':\n",
    "            white_locations.add(robot_coordinates)\n",
    "            all_painted.add(robot_coordinates)\n",
    "            \n",
    "        elif output1 == '0' and robot_coordinates in white_locations:\n",
    "            white_locations.remove(robot_coordinates)\n",
    "            \n",
    "        \n",
    "        if output2 == '0':\n",
    "            robot_dir -= 1\n",
    "            robot_dir %= 4\n",
    "            \n",
    "        else:\n",
    "            robot_dir += 1\n",
    "            robot_dir %= 4\n",
    "            \n",
    "        new_x = robot_coordinates[0] + robot_dirs[robot_dir][0]\n",
    "        new_y = robot_coordinates[1] + robot_dirs[robot_dir][1]\n",
    "        \n",
    "        robot_coordinates = (new_x, new_y)\n",
    "\n",
    "image = [[0 for _ in range(50)] for _ in range(10)]\n",
    "        \n",
    "for l in white_locations:\n",
    "    image[l[1] + 5][l[0]] = 1\n",
    "    \n",
    "array = np.array(image[::-1], dtype=np.uint8)\n",
    "\n",
    "plt.imshow(array,interpolation='nearest')\n",
    "plt.show()"
   ]
  },
  {
   "cell_type": "markdown",
   "metadata": {},
   "source": [
    "## Day 12 - The N-Body Problem\n",
    "\n",
    "#### Part 1\n",
    "\n",
    "This was pretty straight forward.  For each cycle update the body velocity, then position, then repeat for the desired number of cycles.  Then calculate the total energy in the system to get the answer."
   ]
  },
  {
   "cell_type": "code",
   "execution_count": 74,
   "metadata": {},
   "outputs": [
    {
     "data": {
      "text/plain": [
       "8742"
      ]
     },
     "execution_count": 74,
     "metadata": {},
     "output_type": "execute_result"
    }
   ],
   "source": [
    "def n_body(positions, cycles = 1000):\n",
    "    \n",
    "    total_energy = 0\n",
    "    \n",
    "    ####\n",
    "    #load input and parse to get each moons coordinates\n",
    "    positions = positions.split('\\n')[:-1]\n",
    "\n",
    "    body_position = []\n",
    "    body_velocity = []\n",
    "    \n",
    "    for position in positions:\n",
    "        p_split = position.split(',')\n",
    "        \n",
    "        new_planet = []\n",
    "        for c in p_split:\n",
    "            new_planet.append(int(re.sub('[^-1234567890]', '', c)))\n",
    "            \n",
    "        body_position.append(new_planet)\n",
    "        body_velocity.append([0,0,0])\n",
    "        \n",
    "    #print(body_position)\n",
    "    #print(body_velocity)\n",
    "        \n",
    "    for cycle in range(cycles):\n",
    "        \n",
    "        #update velocitys comparing each pair\n",
    "        for i in range(len(body_position)):\n",
    "            for j in range(i+1, len(body_position)):\n",
    "                for coord in range(3):\n",
    "                \n",
    "                    #update x\n",
    "                    if body_position[i][coord] < body_position[j][coord]:\n",
    "                        body_velocity[i][coord] += 1\n",
    "                        body_velocity[j][coord] -= 1\n",
    "\n",
    "                    elif body_position[i][coord] != body_position[j][coord]:\n",
    "                        body_velocity[i][coord] -= 1\n",
    "                        body_velocity[j][coord] += 1\n",
    "                        \n",
    "        #update positions comparing each pair\n",
    "        for i in range(len(body_position)):\n",
    "            body_position[i] = [sum(x) for x in zip(body_position[i], body_velocity[i])]\n",
    "        \n",
    "        #print(\"cycle: \" + str(cycle + 1))\n",
    "        #print(body_position)\n",
    "        #print(body_velocity)\n",
    "        \n",
    "    #calculate the total energy\n",
    "    for i in range(len(body_position)):\n",
    "        pot = sum([abs(i) for i in body_position[i]])\n",
    "        kin = sum([abs(i) for i in body_velocity[i]])\n",
    "        \n",
    "        total_energy += pot * kin\n",
    "        \n",
    "    return total_energy\n",
    "\n",
    "assert n_body(load_data(\"day12test\").read(), 10) == 179\n",
    "assert n_body(load_data(\"day12test2\").read(), 100) == 1940\n",
    "\n",
    "n_body(load_data(\"day12\").read(), 1000)"
   ]
  },
  {
   "cell_type": "markdown",
   "metadata": {},
   "source": [
    "#### Part 2\n",
    "\n",
    "Wow this was tough!  The trick was that each axis is independent (ie x, y ,z).  For each axis we can determine the number of cycles until the axis has returned to the starting point.  We then find the lowest common multiple of each axis phase to get the phase of the entire system."
   ]
  },
  {
   "cell_type": "code",
   "execution_count": 77,
   "metadata": {},
   "outputs": [],
   "source": [
    "def n_body_phase(positions, coord = 0 ):\n",
    "    \n",
    "    ####\n",
    "    #load input and parse to get each moons coordinates\n",
    "    positions = positions.split('\\n')[:-1]\n",
    "\n",
    "    body_position = []\n",
    "    body_velocity = []\n",
    "    phases = []\n",
    "    \n",
    "    for position in positions:\n",
    "        p_split = position.split(',')\n",
    "        \n",
    "        new_planet = []\n",
    "        for c in p_split:\n",
    "            new_planet.append(int(re.sub('[^-1234567890]', '', c)))\n",
    "            \n",
    "        body_position.append(new_planet[coord])\n",
    "        body_velocity.append(0)\n",
    "        phases.append(float(\"Inf\"))\n",
    "    \n",
    "    starting_positions = copy.deepcopy(body_position)\n",
    "    \n",
    "    cycle = 0   \n",
    "    while float(\"Inf\") in phases:\n",
    "        \n",
    "        #update velocitys comparing each pair\n",
    "        for i in range(len(body_position)):\n",
    "            for j in range(i+1, len(body_position)):\n",
    "                \n",
    "                    #update x\n",
    "                    if body_position[i] < body_position[j]:\n",
    "                        body_velocity[i] += 1\n",
    "                        body_velocity[j] -= 1\n",
    "\n",
    "                    elif body_position[i] != body_position[j]:\n",
    "                        body_velocity[i] -= 1\n",
    "                        body_velocity[j] += 1\n",
    "                        \n",
    "        #update positions comparing each pair\n",
    "        body_position = [sum(x) for x in zip(body_position, body_velocity)]\n",
    "        \n",
    "        #check if body has completed a phase\n",
    "        if sum(body_velocity) == 0 and body_position == starting_positions:\n",
    "            return cycle + 2\n",
    "                \n",
    "        cycle += 1"
   ]
  },
  {
   "cell_type": "code",
   "execution_count": 78,
   "metadata": {},
   "outputs": [
    {
     "data": {
      "text/plain": [
       "325433763467176"
      ]
     },
     "execution_count": 78,
     "metadata": {},
     "output_type": "execute_result"
    }
   ],
   "source": [
    "#calculate the x, y, and z phases of each planet\n",
    "\n",
    "phase_x = n_body_phase(load_data(\"day12\").read(),0)\n",
    "phase_y = n_body_phase(load_data(\"day12\").read(),1)\n",
    "phase_z = n_body_phase(load_data(\"day12\").read(),2)\n",
    "\n",
    "np.lcm.reduce([phase_x, phase_y, phase_z])"
   ]
  },
  {
   "cell_type": "markdown",
   "metadata": {},
   "source": [
    "## Day 13 - Care Package\n",
    "\n",
    "#### Part 1"
   ]
  },
  {
   "cell_type": "code",
   "execution_count": 79,
   "metadata": {},
   "outputs": [
    {
     "name": "stdout",
     "output_type": "stream",
     "text": [
      "Loaded computer of length: 2720\n"
     ]
    }
   ],
   "source": [
    "game = ic.intcode_computer(load_data(\"day13\").read())"
   ]
  },
  {
   "cell_type": "code",
   "execution_count": 80,
   "metadata": {},
   "outputs": [],
   "source": [
    "output = []\n",
    "\n",
    "while game.getInstruct() != 99:\n",
    "    o = game.run()\n",
    "    \n",
    "    if o:\n",
    "        output.append(int(o))\n",
    "    "
   ]
  },
  {
   "cell_type": "code",
   "execution_count": 81,
   "metadata": {},
   "outputs": [
    {
     "name": "stdout",
     "output_type": "stream",
     "text": [
      "Total blocks: 432\n",
      "Screen x-size: 39\n",
      "Screen y-size: 25\n"
     ]
    }
   ],
   "source": [
    "ans = 0\n",
    "max_x = -2\n",
    "max_y = -2\n",
    "\n",
    "for i in range(2, len(output),3):\n",
    "    if output[i] == 2:\n",
    "        ans += 1\n",
    "        \n",
    "    max_x = max(max_x, output[i-2])\n",
    "    max_y = max(max_y, output[i-1])\n",
    "        \n",
    "print(\"Total blocks: \" + str(ans))\n",
    "print(\"Screen x-size: \" + str(max_x))\n",
    "print(\"Screen y-size: \" + str(max_y))"
   ]
  },
  {
   "cell_type": "markdown",
   "metadata": {},
   "source": [
    "#### Part 2\n",
    "\n",
    "Another interesting question!  I added a function to render an array of the screen using the raw opcode program output.  The AI to play the game was quite simple.  Just always move the paddle in the direction of the ball.  If the ball and paddle are aligned leave it."
   ]
  },
  {
   "cell_type": "code",
   "execution_count": 82,
   "metadata": {},
   "outputs": [],
   "source": [
    "def render_screen(screen, output, max_x, max_y):\n",
    "    \n",
    "    #array for screen\n",
    "    score = -1\n",
    "    paddle = [-1,-1]\n",
    "    ball = [-1,-1]\n",
    "    \n",
    "    for i in range(2, len(output),3):\n",
    "        x = output[i - 2]\n",
    "        y = output[i - 1]\n",
    "        ptype = output[i]\n",
    "        \n",
    "        if x != -1:\n",
    "            #if nothing\n",
    "            if ptype == 0:\n",
    "                screen[y][x] = 0\n",
    "\n",
    "            #wall    \n",
    "            elif ptype == 1:\n",
    "                screen[y][x] = 1\n",
    "\n",
    "            #block   \n",
    "            elif ptype == 2:\n",
    "                screen[y][x] = 2\n",
    "\n",
    "            #paddle   \n",
    "            elif ptype == 3:\n",
    "                screen[y][x] = 3\n",
    "                paddle = [x,y]\n",
    "\n",
    "            #ball \n",
    "            elif ptype == 4:\n",
    "                screen[y][x] = 4\n",
    "                ball = [x,y]\n",
    "                \n",
    "        else:\n",
    "            score = ptype      \n",
    "    return [screen, score, paddle, ball]"
   ]
  },
  {
   "cell_type": "code",
   "execution_count": 84,
   "metadata": {},
   "outputs": [
    {
     "name": "stdout",
     "output_type": "stream",
     "text": [
      "Loaded computer of length: 2720\n"
     ]
    },
    {
     "data": {
      "image/png": "[encoded data removed]",
      "text/plain": [
       "<Figure size 432x288 with 1 Axes>"
      ]
     },
     "metadata": {
      "needs_background": "light"
     },
     "output_type": "display_data"
    },
    {
     "data": {
      "image/png": "[encoded data removed]",
      "text/plain": [
       "<Figure size 432x288 with 1 Axes>"
      ]
     },
     "metadata": {
      "needs_background": "light"
     },
     "output_type": "display_data"
    },
    {
     "data": {
      "image/png": "[encoded data removed]",
      "text/plain": [
       "<Figure size 432x288 with 1 Axes>"
      ]
     },
     "metadata": {
      "needs_background": "light"
     },
     "output_type": "display_data"
    },
    {
     "data": {
      "image/png": "[encoded data removed]",
      "text/plain": [
       "<Figure size 432x288 with 1 Axes>"
      ]
     },
     "metadata": {
      "needs_background": "light"
     },
     "output_type": "display_data"
    },
    {
     "name": "stdout",
     "output_type": "stream",
     "text": [
      "Final score was:  22225\n"
     ]
    }
   ],
   "source": [
    "game = ic.intcode_computer(load_data(\"day13\").read())\n",
    "score = 0\n",
    "\n",
    "#put game into play mode\n",
    "game.setMemory(0,2)\n",
    "\n",
    "#array for screen\n",
    "screen = [[0 for _ in range(max_x + 1)] for _ in range(max_y + 1)]\n",
    "\n",
    "raw_output = []\n",
    "\n",
    "cycles = 0\n",
    "while game.getInstruct() != 99:\n",
    "    \n",
    "    #if not waiting for input keep running to get output\n",
    "    if game.getInstruct() != 3:\n",
    "        output = game.run()\n",
    "            \n",
    "    elif game.getInstruct() == 3:\n",
    "        screen, new_score, paddle, ball = render_screen(screen, raw_output, max_x, max_y)\n",
    "        raw_output = []\n",
    "        \n",
    "        if new_score != -1:\n",
    "            score = new_score\n",
    "            #print(score)\n",
    "        \n",
    "        #print screen every 2000 cycles to make sure everything is working\n",
    "        if cycles % 2000 == 0:\n",
    "            array = np.array(screen, dtype=np.uint8)\n",
    "            plt.imshow(array,interpolation='nearest')\n",
    "            plt.show()\n",
    "        \n",
    "        if ball[0] < paddle[0]:\n",
    "            output = game.run(['-1'])\n",
    "            \n",
    "        elif ball[0] == paddle[0]:\n",
    "            output = game.run(['0'])\n",
    "            \n",
    "        else:\n",
    "            output = game.run(['1'])\n",
    "            \n",
    "        cycles += 1\n",
    "            \n",
    "    \n",
    "    if output:\n",
    "        raw_output.append(int(output))\n",
    "        \n",
    "        \n",
    "#final screen update\n",
    "screen, new_score, paddle, ball = render_screen(screen, raw_output, max_x, max_y)\n",
    "print(\"Final score was: \", str(new_score))"
   ]
  },
  {
   "cell_type": "markdown",
   "metadata": {},
   "source": [
    "## Day 14 - Space Stoichiometry\n",
    "\n",
    "#### Part 1\n",
    "\n",
    "First the formulas need to be loaded into an easily accessible hash table.  For each material it's input materials, input material quantity, and the output quantity is stored in hash table.\n",
    "\n",
    "A backwards BFS is performed starting with the final FUEL output until we work back to an ORE input.  One trick is to store excess material from each step in the BFS.  At each step if excess material is needed it is used before new material is produced. "
   ]
  },
  {
   "cell_type": "code",
   "execution_count": 85,
   "metadata": {},
   "outputs": [],
   "source": [
    "#load in formuals data into a hash table\n",
    "def process_formulas(equations):\n",
    "    #######################\n",
    "    #parse data\n",
    "    equations = equations.split('\\n')[:-1]\n",
    "    \n",
    "    #formula lookup\n",
    "    formulas  = {}\n",
    "    \n",
    "    for equation in equations:\n",
    "        left, right = equation.split('=>')\n",
    "        \n",
    "        #process right side of equation\n",
    "        right = right.strip()\n",
    "        right_val, right_chem = right.split(\" \")\n",
    "        right_val = int(right_val)\n",
    "        \n",
    "        #process left side of equation\n",
    "        left_chem = []\n",
    "        left_val = []\n",
    "        \n",
    "        left = left.split(\",\")\n",
    "        \n",
    "        for l in left:\n",
    "            l = l.strip()\n",
    "            l_val, l_chem = l.split(\" \")\n",
    "            l_val = int(l_val)\n",
    "            \n",
    "            left_chem.append(l_chem)\n",
    "            left_val.append(l_val)\n",
    "            \n",
    "        #store in hash\n",
    "        formulas[right_chem] = [left_val,left_chem, right_val]\n",
    "        \n",
    "    return formulas"
   ]
  },
  {
   "cell_type": "code",
   "execution_count": 86,
   "metadata": {},
   "outputs": [
    {
     "name": "stdout",
     "output_type": "stream",
     "text": [
      "907302\n"
     ]
    }
   ],
   "source": [
    "def stoich(equations, fuel_count = 1):\n",
    "    \n",
    "    #load data\n",
    "    formulas = process_formulas(equations)\n",
    "    \n",
    "    \n",
    "    #initial inputs\n",
    "    inputs = defaultdict(int)\n",
    "    excess = defaultdict(int)\n",
    "    \n",
    "    stack = [['FUEL', fuel_count]]\n",
    "    ans = 0\n",
    "    while stack:\n",
    "        material, count = stack.pop(-1)\n",
    "        \n",
    "        #if ore is only input\n",
    "        if material == 'ORE':\n",
    "            ans += count\n",
    "            continue\n",
    "            \n",
    "        elif count == 0:\n",
    "            continue\n",
    "            \n",
    "        elif excess[material] > 0:    \n",
    "            if excess[material] >= count:\n",
    "                excess[material] -= count\n",
    "                count = 0\n",
    "            else:\n",
    "                count -= excess[material]\n",
    "                excess[material] = 0\n",
    "            \n",
    "        #reactions required\n",
    "        reactions = int(math.ceil(count / formulas[material][2]))\n",
    "        \n",
    "        if reactions * formulas[material][2] > count:\n",
    "            excess[material] += (reactions * formulas[material][2]) - count\n",
    "        \n",
    "        for i in range(len(formulas[material][1])):\n",
    "            stack.append([formulas[material][1][i], formulas[material][0][i] * reactions])\n",
    "            \n",
    "    \n",
    "    return ans\n",
    "\n",
    "assert stoich(load_data(\"day14test\").read()) == 13312\n",
    "assert stoich(load_data(\"day14test2\").read()) == 180697\n",
    "assert stoich(load_data(\"day14test3\").read()) == 2210736\n",
    "print(stoich(load_data(\"day14\").read()))"
   ]
  },
  {
   "cell_type": "markdown",
   "metadata": {},
   "source": [
    "#### Part 2\n",
    "\n",
    "This becomes a simply binary search to see the largest possible fuel input that uses under 1 trillion ore."
   ]
  },
  {
   "cell_type": "code",
   "execution_count": 87,
   "metadata": {},
   "outputs": [
    {
     "name": "stdout",
     "output_type": "stream",
     "text": [
      "1670299 fuel is produced\n"
     ]
    }
   ],
   "source": [
    "#use binary search to find optimal number of fuel to use 1 trillion ore\n",
    "hi = 2000000\n",
    "lo = 1\n",
    "\n",
    "target = 1000000000000\n",
    "\n",
    "while lo <= hi:\n",
    "    mid = (lo + hi) // 2\n",
    "    \n",
    "    fuel = stoich(load_data(\"day14\").read(),mid)\n",
    "    \n",
    "    if fuel == target:\n",
    "        break\n",
    "        \n",
    "    elif fuel < target:\n",
    "        lo = mid + 1\n",
    "        \n",
    "    else:\n",
    "        hi = mid - 1\n",
    "        \n",
    "print(str(mid) + \" fuel is produced\")   "
   ]
  },
  {
   "cell_type": "markdown",
   "metadata": {},
   "source": [
    "## Day 15- Oxygen System\n",
    "\n",
    "#### Part 1 & 2\n",
    "\n",
    "First step is to have the robot traverse the entire path to map it out.  We can use a DFS search to travel through the maze. If we reach a dead-end we backtrack the path until we find a new branch.  If we fully backtrack with no new branches we are completed mapping the maze.  We can use BFS to find the smallest distance from the robot starting point to the oxygen source.\n",
    "\n",
    "For part 2 we use BFS and see how many steps it takes the traverse the entire maze starting at the oxygen source."
   ]
  },
  {
   "cell_type": "code",
   "execution_count": 377,
   "metadata": {},
   "outputs": [],
   "source": [
    "#function to get robot to fully explore coridoors\n",
    "def robot_explore(repair_droid):\n",
    "    visited = set([(0,0)])\n",
    "\n",
    "    map_vals = {}\n",
    "    map_vals[0] = set()\n",
    "    map_vals[1] = set([(0,0)])\n",
    "    map_vals[2] = set()\n",
    "    map_vals[3] = []\n",
    "\n",
    "    shortest_path = float(\"Inf\")\n",
    "\n",
    "    path = []\n",
    "\n",
    "    #x,y position of robot\n",
    "    cur_pos = (0,0)\n",
    "\n",
    "    cycle = 0\n",
    "\n",
    "    while True:\n",
    "        #try north\n",
    "        if (cur_pos[0], cur_pos[1] + 1) not in visited:\n",
    "            new_pos = (cur_pos[0], cur_pos[1] + 1)\n",
    "            path_rev = 2\n",
    "            output = int(repair_droid.run(['1']))\n",
    "\n",
    "        #try south    \n",
    "        elif (cur_pos[0], cur_pos[1] - 1) not in visited:\n",
    "            new_pos = (cur_pos[0], cur_pos[1] - 1)\n",
    "            path_rev = 1\n",
    "            output = int(repair_droid.run(['2']))\n",
    "\n",
    "        #try east\n",
    "        elif (cur_pos[0] + 1, cur_pos[1]) not in visited:\n",
    "            new_pos = (cur_pos[0] + 1, cur_pos[1])\n",
    "            path_rev = 3\n",
    "            output = int(repair_droid.run(['4']))\n",
    "\n",
    "        #try west    \n",
    "        elif (cur_pos[0] - 1, cur_pos[1]) not in visited:\n",
    "            new_pos = (cur_pos[0] - 1, cur_pos[1])\n",
    "            path_rev = 4\n",
    "            output = int(repair_droid.run(['3']))\n",
    "\n",
    "        #if no options try to back track\n",
    "        elif path:\n",
    "            output = -99\n",
    "            rev = path.pop(-1)\n",
    "\n",
    "            if rev == 1:\n",
    "                cur_pos = (cur_pos[0], cur_pos[1] + 1)\n",
    "\n",
    "            elif rev == 2:\n",
    "                cur_pos = (cur_pos[0], cur_pos[1] - 1)\n",
    "\n",
    "            elif rev == 3:\n",
    "                cur_pos = (cur_pos[0] - 1, cur_pos[1])\n",
    "\n",
    "            elif rev == 4:\n",
    "                cur_pos = (cur_pos[0] + 1, cur_pos[1])\n",
    "\n",
    "            repair_droid.run([str(rev)])\n",
    "\n",
    "        #if no backtrack option then break\n",
    "        else:\n",
    "            break\n",
    "\n",
    "        #update data\n",
    "        #if we moved update data\n",
    "        if output == 1:\n",
    "\n",
    "            path.append(path_rev)\n",
    "            cur_pos = new_pos\n",
    "\n",
    "            visited.add(cur_pos)\n",
    "            map_vals[output].add(cur_pos)\n",
    "\n",
    "        elif output == 2:\n",
    "            path.append(path_rev)\n",
    "            cur_pos = new_pos\n",
    "\n",
    "            visited.add(cur_pos)\n",
    "            map_vals[output].add(cur_pos)\n",
    "\n",
    "            print(len(path))\n",
    "\n",
    "        elif output == 0:\n",
    "            visited.add(new_pos)\n",
    "            map_vals[output].add(new_pos)\n",
    "\n",
    "\n",
    "    return map_vals"
   ]
  },
  {
   "cell_type": "code",
   "execution_count": 378,
   "metadata": {},
   "outputs": [],
   "source": [
    "#function build an array out of the know points in the cooridors\n",
    "def plot_path(map_vals):\n",
    "    #determine size\n",
    "    x_min = float(\"Inf\")\n",
    "    x_max = -float(\"Inf\")\n",
    "    \n",
    "    y_min = float(\"Inf\")\n",
    "    y_max = -float(\"Inf\")\n",
    "    \n",
    "    for key in map_vals:\n",
    "        for c in map_vals[key]:\n",
    "            x_min = min(x_min, c[0])\n",
    "            x_max = max(x_max, c[0])\n",
    "    \n",
    "            y_min = min(y_min, c[1])\n",
    "            y_max = max(y_max, c[1])\n",
    "            \n",
    "    x_size = x_max + abs(x_min)\n",
    "    y_size = y_max + abs(y_min)\n",
    "    \n",
    "    #print(\"x size: \" + str(x_size))\n",
    "    #print(\"y size: \" + str(y_size))\n",
    "    \n",
    "    #create array\n",
    "    img = [[0 for _ in range(x_size + 1)] for _ in range(y_size + 1)]\n",
    "    \n",
    "    \n",
    "    for key in map_vals:\n",
    "        for c in map_vals[key]:\n",
    "            x,y = c\n",
    "            x = x + abs(x_min)\n",
    "            y = y + abs(y_min)\n",
    "            \n",
    "            img[x][y] = key + 1\n",
    "            \n",
    "\n",
    "    return [img, [abs(x_min), abs(y_min)]]\n",
    "        "
   ]
  },
  {
   "cell_type": "code",
   "execution_count": 379,
   "metadata": {},
   "outputs": [],
   "source": [
    "#run a bfs on the paths\n",
    "def robot_bfs(c_arr, start_point, target_point = [-1,-1]):\n",
    "    \n",
    "    stack = [[start_point, 0]]\n",
    "    target_distance = float('Inf')\n",
    "    max_steps = -float('Inf')\n",
    "    \n",
    "    m = len(c_arr)\n",
    "    n = len(c_arr[0])\n",
    "    \n",
    "    visited = set()\n",
    "    \n",
    "    target_point = tuple(target_point)\n",
    "    \n",
    "    while stack:\n",
    "        point, steps = stack.pop(0)\n",
    "        \n",
    "        visited.add(tuple(point))\n",
    "        \n",
    "        max_steps = max(max_steps, steps)\n",
    "        \n",
    "        if point[0] == target_point[0] and point[1] == target_point[1]:\n",
    "            target_distance = steps\n",
    "        \n",
    "        neighbours = [[point[0] + 1, point[1]],[point[0] - 1, point[1]],\n",
    "                      [point[0], point[1] + 1],[point[0], point[1] - 1]]\n",
    "        \n",
    "        for neighbour in neighbours:\n",
    "            if 0 <= neighbour[0] < m and 0 <= neighbour[1] < n:\n",
    "                if c_arr[neighbour[0]][neighbour[1]] > 1 and tuple(neighbour) not in visited:\n",
    "                    stack.append([neighbour, steps + 1])\n",
    "    \n",
    "    return [max_steps, target_distance]"
   ]
  },
  {
   "cell_type": "code",
   "execution_count": 380,
   "metadata": {},
   "outputs": [
    {
     "name": "stdout",
     "output_type": "stream",
     "text": [
      "Loaded computer of length: 1045\n",
      "220\n"
     ]
    },
    {
     "data": {
      "image/png": "[encoded data removed]",
      "text/plain": [
       "<Figure size 432x288 with 1 Axes>"
      ]
     },
     "metadata": {
      "needs_background": "light"
     },
     "output_type": "display_data"
    },
    {
     "name": "stdout",
     "output_type": "stream",
     "text": [
      "Source at: [37, 7]\n",
      "Distance to source: 220\n",
      "Oxygen spread time is: 334\n"
     ]
    }
   ],
   "source": [
    "#explore then convert to an array\n",
    "map_vals = robot_explore(ic.intcode_computer(load_data(\"day15\").read()))\n",
    "c_arr, rob_start = plot_path(map_vals)\n",
    "\n",
    "#plot out array\n",
    "array = np.array(c_arr, dtype=np.uint8)\n",
    "plt.imshow(array,interpolation='nearest')\n",
    "plt.show()\n",
    "\n",
    "#find oxygen source\n",
    "for i in range(len(c_arr)):\n",
    "    for j in range(len(c_arr[0])):\n",
    "        if c_arr[i][j] == 3:\n",
    "            oxy = [i,j]\n",
    "            break\n",
    "            \n",
    "print(\"Source at: \" + str(oxy))\n",
    "\n",
    "total_steps, dist_source = robot_bfs(c_arr, rob_start, oxy)\n",
    "print(\"Distance to source: \" + str(dist_source))\n",
    "\n",
    "total_steps, dist_source = robot_bfs(c_arr, oxy, rob_start)\n",
    "print(\"Oxygen spread time is: \" + str(total_steps))"
   ]
  },
  {
   "cell_type": "markdown",
   "metadata": {},
   "source": [
    "## Day 16- Flawed Frequency Transmission\n",
    "\n",
    "#### Part 1\n",
    "\n",
    "Initial brute force solution with multiple nested for statements to solve.  Quite slow before increasing the message length 1000x."
   ]
  },
  {
   "cell_type": "code",
   "execution_count": 503,
   "metadata": {},
   "outputs": [],
   "source": [
    "def calc_fft(nums, pattern, phases):\n",
    "    \n",
    "    #convert numbers to list\n",
    "    nums = [int(i) for i in nums]\n",
    "    \n",
    "    \n",
    "    for phase in range(1, phases + 1):\n",
    "        \n",
    "        #temp for holding pattern\n",
    "        new_nums = []\n",
    "        \n",
    "        for i in range(len(nums)):\n",
    "            #generate phase\n",
    "            phase_pattern = []\n",
    "            new_num = 0\n",
    "            phase_ptr = 1\n",
    "            \n",
    "            for p in pattern:\n",
    "                for _ in range(i + 1):\n",
    "                    phase_pattern.append(p)\n",
    "            \n",
    "            #calculate the new number\n",
    "            for j in range(0, len(nums)):\n",
    "                new_num += nums[j] * phase_pattern[phase_ptr]\n",
    "                #print(str(nums[j]) + \"* \" + str(phase_pattern[phase_ptr]))\n",
    "                phase_ptr += 1\n",
    "                phase_ptr %= len(phase_pattern)\n",
    "                    \n",
    "            #print(new_num)\n",
    "                \n",
    "            #append \n",
    "            new_nums.append(int(str(abs(new_num))[-1]))\n",
    "            \n",
    "        nums = new_nums[:]\n",
    "        #print(nums)\n",
    "                \n",
    "    nums = [str(i) for i in nums]\n",
    "    nums = ''.join(nums)\n",
    "        \n",
    "    \n",
    "    return nums"
   ]
  },
  {
   "cell_type": "code",
   "execution_count": 552,
   "metadata": {},
   "outputs": [
    {
     "data": {
      "text/plain": [
       "'82435530'"
      ]
     },
     "execution_count": 552,
     "metadata": {},
     "output_type": "execute_result"
    }
   ],
   "source": [
    "data = load_data(\"day16\").read().split('\\n')[0]\n",
    "\n",
    "assert calc_fft('80871224585914546619083218645595', [0,1,0,-1], 100)[:8] == '24176176'\n",
    "assert calc_fft('19617804207202209144916044189917', [0,1,0,-1], 100)[:8] == '73745418'\n",
    "assert calc_fft('69317163492948606335995924319873', [0,1,0,-1], 100)[:8] == '52432133'\n",
    "\n",
    "calc_fft(data, [0,1,0,-1], 100)[:8]"
   ]
  },
  {
   "cell_type": "markdown",
   "metadata": {},
   "source": [
    "#### Part 2\n",
    "\n",
    "Implemented a few tricks to speed up for a much longer input.  First was pre-calculating the sums up to each array index to speed up sums for each window.  Second was only calculating the phases after the input offset.  The further the offset is from the start the faster the calculation since everything before it can be ignored."
   ]
  },
  {
   "cell_type": "code",
   "execution_count": 617,
   "metadata": {},
   "outputs": [],
   "source": [
    "def calc_fft_optimized(nums, pattern, phases, offset = False):\n",
    "    \n",
    "    #convert numbers to list\n",
    "    nums = [int(i) for i in nums]\n",
    "    \n",
    "    #true input\n",
    "    if offset:\n",
    "        offset = nums[0:7]\n",
    "        offset = [str(i) for i in offset]\n",
    "        offset = int(''.join(offset))\n",
    "        nums = nums * 10000\n",
    "\n",
    "    for phase in range(1, phases + 1):\n",
    "        new_nums = []\n",
    "        #print(phase)\n",
    "        #calc dp\n",
    "        nsum = 0\n",
    "        dp = [0]\n",
    "        \n",
    "        #running sums\n",
    "        for num in nums:\n",
    "            nsum += num\n",
    "            dp.append(nsum)\n",
    "        \n",
    "        for i in range(offset, len(nums)):\n",
    "            \n",
    "            new_num = 0\n",
    "            pattern_ptr = 0\n",
    "            num_ptr = 0\n",
    "            \n",
    "            while num_ptr < len(nums):\n",
    "  \n",
    "                window_size = i\n",
    "                    \n",
    "                window_end = min(num_ptr + window_size, len(nums))\n",
    "                new_num += (dp[window_end] - dp[num_ptr]) * pattern[pattern_ptr]\n",
    "                \n",
    "                \n",
    "                num_ptr += window_size\n",
    "                \n",
    "                pattern_ptr += 1\n",
    "                pattern_ptr %= len(pattern)\n",
    "                \n",
    "                \n",
    "                \n",
    "            nums[i] = (int(str(abs(new_num))[-1]))\n",
    "    \n",
    "    nums = [str(i) for i in nums]\n",
    "    nums = ''.join(nums)\n",
    "    \n",
    "    \n",
    "    return nums[offset:(offset+8)]"
   ]
  },
  {
   "cell_type": "code",
   "execution_count": 611,
   "metadata": {},
   "outputs": [],
   "source": [
    "assert calc_fft_optimized('03036732577212944063491565474664', [0,1,0,-1], 100, True) == '84462026'\n",
    "assert calc_fft_optimized('02935109699940807407585447034323', [0,1,0,-1], 100, True) == '78725270'\n",
    "assert calc_fft_optimized('03081770884921959731165446850517', [0,1,0,-1], 100, True) == '53553731'"
   ]
  },
  {
   "cell_type": "code",
   "execution_count": 619,
   "metadata": {},
   "outputs": [
    {
     "name": "stdout",
     "output_type": "stream",
     "text": [
      "Signal is: 83036156\n"
     ]
    }
   ],
   "source": [
    "data = load_data(\"day16\").read().split('\\n')[0]\n",
    "ans = calc_fft_optimized(data, [0,1,0,-1], 100, True)\n",
    "print(\"Signal is: \" + ans)"
   ]
  },
  {
   "cell_type": "markdown",
   "metadata": {},
   "source": [
    "## Day 17- Set and Forget\n",
    "\n",
    "#### Part 1\n",
    "The first half was pretty straight forward.  Run the intcode computer and collect all of it's output to get an image of the scaffolding path."
   ]
  },
  {
   "cell_type": "code",
   "execution_count": 1241,
   "metadata": {},
   "outputs": [
    {
     "name": "stdout",
     "output_type": "stream",
     "text": [
      "Loaded computer of length: 1469\n"
     ]
    }
   ],
   "source": [
    "#initalize the computer\n",
    "importlib.reload(intcode_computer)\n",
    "scaffold = ic.intcode_computer(load_data(\"day17\").read())"
   ]
  },
  {
   "cell_type": "code",
   "execution_count": 1242,
   "metadata": {},
   "outputs": [
    {
     "data": {
      "image/png": "[encoded data removed]",
      "text/plain": [
       "<Figure size 432x288 with 1 Axes>"
      ]
     },
     "metadata": {
      "needs_background": "light"
     },
     "output_type": "display_data"
    }
   ],
   "source": [
    "#build up scaffold map\n",
    "scaffold_map = []\n",
    "new_line = []\n",
    "\n",
    "while scaffold.getInstruct() != 99:\n",
    "    next_c = scaffold.run()\n",
    "    \n",
    "    if next_c != '10' and next_c != None:\n",
    "        new_line.append(int(next_c))\n",
    "    \n",
    "    elif next_c != None:\n",
    "        scaffold_map.append(new_line)\n",
    "        new_line = []\n",
    "\n",
    "scaffold_map = scaffold_map[:-1]\n",
    "\n",
    "#draw image of the scaffold\n",
    "array = np.array(scaffold_map, dtype=np.uint8)\n",
    "plt.imshow(array,interpolation='nearest')\n",
    "plt.show()"
   ]
  },
  {
   "cell_type": "code",
   "execution_count": 1253,
   "metadata": {},
   "outputs": [],
   "source": [
    "#calibrate camera by finding locations of scaffold intersections\n",
    "def calc_intersections(scaffold_map):\n",
    "    counter = 0\n",
    "    \n",
    "    for i in range(1, len(scaffold_map) - 1):\n",
    "        for j in range(1, len(scaffold_map[0]) - 1):\n",
    "            if scaffold_map[i][j] == 35 and scaffold_map[i + 1][j] == 35 and scaffold_map[i - 1][j] == 35 and scaffold_map[i][j - 1] == 35 and scaffold_map[i][j + 1] == 35:\n",
    "                counter += (i * j)\n",
    "                \n",
    "    return counter"
   ]
  },
  {
   "cell_type": "code",
   "execution_count": 1254,
   "metadata": {},
   "outputs": [
    {
     "name": "stdout",
     "output_type": "stream",
     "text": [
      "Alignment parameters are: 4372\n"
     ]
    }
   ],
   "source": [
    "print('Alignment parameters are: ' + str(calc_intersections(scaffold_map)) )\n",
    "#print(scaffold_map)"
   ]
  },
  {
   "cell_type": "markdown",
   "metadata": {},
   "source": [
    "#### Part 2\n",
    "\n",
    "Really tough!  One trick was to make sure the robot always has the same behavior at intersections to allow for the path to repeat/be compressed.  In this case I always made the robot continue forward if possible.\n",
    "\n",
    "In this case once I found the path I manually found the repeat patterns:\n",
    "\n",
    "- A - L8R12R12R10\n",
    "- B - L10R10L6\n",
    "- C - R10R12R10\n",
    "\n",
    "Which results in path: ACACBBCACB"
   ]
  },
  {
   "cell_type": "markdown",
   "metadata": {},
   "source": [
    "This first half find an optimal path:"
   ]
  },
  {
   "cell_type": "code",
   "execution_count": 1269,
   "metadata": {},
   "outputs": [],
   "source": [
    "#get a list of all intersections\n",
    "def get_intersections(scaffold_map):\n",
    "    intersections = set()\n",
    "    \n",
    "    for i in range(1, len(scaffold_map) - 1):\n",
    "        for j in range(1, len(scaffold_map[0]) - 1):\n",
    "            \n",
    "            if scaffold_map[i][j] == 35 and scaffold_map[i + 1][j] == 35 and scaffold_map[i - 1][j] == 35 and scaffold_map[i][j - 1] == 35 and scaffold_map[i][j + 1] == 35:\n",
    "                intersections.add((i , j))\n",
    "                \n",
    "    return intersections"
   ]
  },
  {
   "cell_type": "code",
   "execution_count": 1270,
   "metadata": {},
   "outputs": [],
   "source": [
    "#function to find robot endpoint on map\n",
    "def find_endpoint(scaffold_map):\n",
    "    \n",
    "    for i in range(1, len(scaffold_map) - 1):\n",
    "        for j in range(1, len(scaffold_map[0]) - 1):\n",
    "            \n",
    "            if scaffold_map[i][j] == 35 and ((int(scaffold_map[i + 1][j] == 35) + int(scaffold_map[i - 1][j] == 35) + int(scaffold_map[i][j - 1] == 35) + int(scaffold_map[i][j + 1] == 35)) == 1):\n",
    "                return (i,j)"
   ]
  },
  {
   "cell_type": "code",
   "execution_count": 1271,
   "metadata": {},
   "outputs": [],
   "source": [
    "#get robot starting point and direction\n",
    "def robot_start(scaffold_map):\n",
    "        #first lets find the robot starting point and direction\n",
    "    for i in range(len(scaffold_map)):\n",
    "        for j in range(len(scaffold_map[0])):\n",
    "            \n",
    "            if chr(scaffold_map[i][j]) in ['>','<','v','^']:\n",
    "                rob_pos = (i,j)\n",
    "                \n",
    "                if chr(scaffold_map[i][j]) == '>':\n",
    "                    rob_dir = 2\n",
    "                    \n",
    "                elif chr(scaffold_map[i][j]) == '<':\n",
    "                    rob_dir = 0\n",
    "                    \n",
    "                elif chr(scaffold_map[i][j]) == 'V':\n",
    "                    rob_dir = 3\n",
    "                    \n",
    "                elif chr(scaffold_map[i][j]) == '^':\n",
    "                    rob_dir = 1\n",
    "                    \n",
    "    return [rob_pos, rob_dir]"
   ]
  },
  {
   "cell_type": "code",
   "execution_count": 1272,
   "metadata": {},
   "outputs": [],
   "source": [
    "#get a list of all scaffold points\n",
    "def get_scaffold_points(scaffold_map):\n",
    "    points = set()\n",
    "    \n",
    "    for i in range(len(scaffold_map)):\n",
    "        for j in range(len(scaffold_map[0])):\n",
    "            \n",
    "            if scaffold_map[i][j] != 46:\n",
    "                points.add((i , j))\n",
    "                \n",
    "    return points"
   ]
  },
  {
   "cell_type": "code",
   "execution_count": 1273,
   "metadata": {},
   "outputs": [],
   "source": [
    "#run BFS to find a path navigating the scaffold\n",
    "#when given the option always have the robot move forward to have a repeatable path\n",
    "def get_scaffold_path(scaffold_map, intersections, endpoint, robot_start, robot_start_dir, scaffold_points):\n",
    "    \n",
    "    #scaffold size\n",
    "    m = len(scaffold_map)\n",
    "    n = len(scaffold_map[0])\n",
    "    \n",
    "    #storing answers\n",
    "    ans = []\n",
    "    ans_length = float(\"Inf\")\n",
    "\n",
    "    #stack format robot position, direction, steps in current direction, path steps, path points\n",
    "    stack = [[robot_start, robot_start_dir, 0, [], []]]\n",
    "    \n",
    "    #reference for directions\n",
    "    rob_directions = [(0,-1),(-1,0),(0,1),(1,0)]\n",
    "    \n",
    "    all_visited = set()\n",
    "    #bfs search\n",
    "    while stack:\n",
    "        #print(stack)\n",
    "        rob_pos, direct, steps, path, path_points = stack.pop(-1)\n",
    "        \n",
    "        #update path\n",
    "        path_points.append(rob_pos)\n",
    "        all_visited.add(rob_pos)\n",
    "        \n",
    "        \n",
    "        #3 possible neighbours forward, left turn and right turn\n",
    "        right = (direct + 1) % 4\n",
    "        left = (direct - 1) % 4\n",
    "        \n",
    "        neighbours = [(rob_pos[0] + rob_directions[direct][0], rob_pos[1] + rob_directions[direct][1]),\n",
    "                     (rob_pos[0] + rob_directions[left][0], rob_pos[1] + rob_directions[left][1]),\n",
    "                     (rob_pos[0] + rob_directions[right][0], rob_pos[1] + rob_directions[right][1])]\n",
    "        \n",
    "        #print(neighbours)\n",
    "        #check each possible neighbour:\n",
    "        for i in range(len(neighbours)):\n",
    "            neighbour = neighbours[i]\n",
    "            #print(neighbour)\n",
    "            \n",
    "            if m <= neighbour[0] or neighbour[0] < 0 or n <= neighbour[1] or neighbour[1] < 0:\n",
    "                continue\n",
    "            \n",
    "            elif (neighbour in path_points) and (neighbour not in intersections):\n",
    "                continue\n",
    "            \n",
    "            elif scaffold_map[neighbour[0]][neighbour[1]] == 35:\n",
    "\n",
    "                #if forward\n",
    "                if i == 0:\n",
    "                    stack.append([neighbour, direct, steps + 1, path[:], path_points[:]])\n",
    "                    break\n",
    "                \n",
    "                #if left\n",
    "                elif i == 1:\n",
    "                    new_path = path[:]\n",
    "                    new_path.append(steps)\n",
    "                    new_path.append('L')\n",
    "                    stack.append([neighbour, left, 1, new_path[:], path_points[:]])\n",
    "                    break\n",
    "                \n",
    "                #if right\n",
    "                elif i == 2:\n",
    "                    new_path = path[:]\n",
    "                    new_path.append(steps)\n",
    "                    new_path.append('R')\n",
    "                    stack.append([neighbour, right, 1, new_path[:], path_points[:]])\n",
    "                    break\n",
    "                    \n",
    "        if rob_pos == endpoint:\n",
    "            if set(path_points) == scaffold_points and len(path_points) <= ans_length:\n",
    "                new_path = path[:]\n",
    "                new_path.append(steps)\n",
    "                ans.append([path_points[:],new_path[:]])\n",
    "                ans_length = len(path_points)\n",
    "            \n",
    "    #print(all_visited)\n",
    "    return ans"
   ]
  },
  {
   "cell_type": "code",
   "execution_count": 1274,
   "metadata": {},
   "outputs": [],
   "source": [
    "intersections = get_intersections(scaffold_map)\n",
    "endpoint =  find_endpoint(scaffold_map)\n",
    "robot_state = robot_start(scaffold_map)\n",
    "\n",
    "scaffold_points = get_scaffold_points(scaffold_map)\n",
    "\n",
    "path = get_scaffold_path(scaffold_map, intersections, endpoint, robot_state[0], robot_state[1], scaffold_points)"
   ]
  },
  {
   "cell_type": "code",
   "execution_count": 1275,
   "metadata": {},
   "outputs": [
    {
     "name": "stdout",
     "output_type": "stream",
     "text": [
      "The robot path is: L8R12R12R10R10R12R10L8R12R12R10R10R12R10L10R10L6L10R10L6R10R12R10L8R12R12R10R10R12R10L10R10L6\n"
     ]
    }
   ],
   "source": [
    "print(\"The robot path is: \" + ''.join([str(i) for i in path[0][1]][1:]))"
   ]
  },
  {
   "cell_type": "markdown",
   "metadata": {},
   "source": [
    "Now that we have an optimal path we must re-program the robot to use it:"
   ]
  },
  {
   "cell_type": "code",
   "execution_count": 1377,
   "metadata": {},
   "outputs": [
    {
     "name": "stdout",
     "output_type": "stream",
     "text": [
      "[65, 44, 67, 44, 65, 44, 67, 44, 66, 44, 66, 44, 67, 44, 65, 44, 67, 44, 66, 10]\n"
     ]
    }
   ],
   "source": [
    "#inputs\n",
    "main_prog = 'A,C,A,C,B,B,C,A,C,B'\n",
    "main_prog = [ord(i) for i in main_prog]\n",
    "main_prog.append(ord('\\n'))\n",
    "\n",
    "A = [ord(i) for i in 'L,8,R,12,R,12,R,10']\n",
    "A.append(ord('\\n'))\n",
    "\n",
    "B = [ord(i) for i in 'L,10,R,10,L,6']\n",
    "B.append(ord('\\n'))\n",
    "\n",
    "C =  [ord(i) for i in 'R,10,R,12,R,10']\n",
    "C.append(ord('\\n'))\n",
    "\n",
    "print(main_prog)"
   ]
  },
  {
   "cell_type": "code",
   "execution_count": 1773,
   "metadata": {},
   "outputs": [],
   "source": [
    "#create a new robot\n",
    "importlib.reload(intcode_computer)\n",
    "scaffold = ic.intcode_computer(load_data(\"day17\").read())\n",
    "\n",
    "#shift first memory location and ensure it worked\n",
    "scaffold.setMemory(0,2)\n",
    "assert scaffold.getInstruct() == 2\n",
    "\n",
    "#cycle camera output\n",
    "while scaffold.getInstruct() != 3:\n",
    "    scaffold.run() \n",
    "    \n",
    "assert scaffold.getInstruct() == 3    "
   ]
  },
  {
   "cell_type": "code",
   "execution_count": 1379,
   "metadata": {},
   "outputs": [
    {
     "name": "stdout",
     "output_type": "stream",
     "text": [
      "Inputting main program\n",
      "Inputting subroutine A\n",
      "Inputting subroutine B\n",
      "Inputting subroutine C\n",
      "Disabling camera mode\n",
      "Final robot output: 945911\n"
     ]
    }
   ],
   "source": [
    "#input main program\n",
    "scaffold.run(main_prog)\n",
    "\n",
    "print(\"Inputting main program\")\n",
    "while scaffold.getInstruct() != 3:\n",
    "    str(scaffold.run())\n",
    "\n",
    "assert scaffold.getInstruct() == 3\n",
    "\n",
    "print(\"Inputting subroutine A\")\n",
    "#input A subroutine\n",
    "scaffold.run(A)\n",
    "\n",
    "while scaffold.getInstruct() != 3:\n",
    "    scaffold.run()\n",
    "\n",
    "assert scaffold.getInstruct() == 3 \n",
    "\n",
    "\n",
    "print(\"Inputting subroutine B\")\n",
    "#input B subroutine\n",
    "scaffold.run(B)\n",
    "\n",
    "#cycle\n",
    "while scaffold.getInstruct() != 3:\n",
    "    scaffold.run()\n",
    "\n",
    "assert scaffold.getInstruct() == 3 \n",
    "\n",
    "\n",
    "print(\"Inputting subroutine C\")\n",
    "#input C subroutine\n",
    "scaffold.run(C)\n",
    "\n",
    "#cycle\n",
    "while scaffold.getInstruct() != 3:\n",
    "    str(scaffold.run())\n",
    "\n",
    "assert scaffold.getInstruct() == 3 \n",
    "\n",
    "\n",
    "print(\"Disabling camera mode\")\n",
    "scaffold.run([ord('n'),ord('\\n')])\n",
    "\n",
    "while scaffold.getInstruct() != 99:\n",
    "    answer = scaffold.run()\n",
    "    \n",
    "print(\"Final robot output: \" + str(answer))"
   ]
  },
  {
   "cell_type": "markdown",
   "metadata": {},
   "source": [
    "## Day 18- Many-Worlds Interpretation\n",
    "\n",
    "#### Part 1\n",
    "\n",
    "Run BFS starting from each key.  Use the BFS results to build up a distance of map of distances from each key to all other keys including the doors required on the path.\n",
    "\n",
    "Once we have all the distances can use recursion and memoization to find the shortest path to reach all the keys."
   ]
  },
  {
   "cell_type": "code",
   "execution_count": 1633,
   "metadata": {},
   "outputs": [],
   "source": [
    "#load in data from file\n",
    "def load_map(data):\n",
    "    data = data.read().split(\"\\n\")[:-1]\n",
    "    \n",
    "    keys = {}\n",
    "    \n",
    "    m = len(data)\n",
    "    n = len(data[0])\n",
    "   \n",
    "    arr=[[0 for _  in range(n)] for _ in range(m)]\n",
    "    \n",
    "    for i in range(m):\n",
    "        for j in range(n):\n",
    "            arr[i][j] = data[i][j]\n",
    "            \n",
    "            if data[i][j] in '@abcdefghijklmnopqrstuvwxyz':\n",
    "                keys[data[i][j]] = [i,j]\n",
    "    return [arr,keys]"
   ]
  },
  {
   "cell_type": "code",
   "execution_count": 1634,
   "metadata": {},
   "outputs": [],
   "source": [
    "#use bfs to find distance of a key from all others along with doors enountered\n",
    "def bfs(start_x, start_y, layout):\n",
    "    \n",
    "    stack = [[start_x, start_y, 0, set(), set()]]\n",
    "    distances = []\n",
    "    \n",
    "    while stack:\n",
    "        x, y, steps, doors, visited = stack.pop(-1)\n",
    "        \n",
    "        visited.add((x,y))\n",
    "        \n",
    "        #update answer\n",
    "        if layout[x][y] in '@abcdefghijklmnopqrstuvwxyz':\n",
    "            distances.append([layout[x][y], steps, doors.copy()])\n",
    "            \n",
    "        elif layout[x][y] in 'ABCDEFGHIJKLMNOPQRSTUVWXYZ':\n",
    "            doors.add(layout[x][y].lower())\n",
    "            \n",
    "        elif layout[x][y] != '.':\n",
    "            print(layout[x][y])\n",
    "            \n",
    "        neighbours = [(x+1,y),(x-1,y),(x,y+1),(x,y-1)]\n",
    "        \n",
    "        for n in neighbours:\n",
    "            if layout[n[0]][n[1]] != '#' and n not in visited:\n",
    "                stack.append([n[0], n[1], steps + 1, doors.copy(), visited.copy()])\n",
    "                \n",
    "    return distances"
   ]
  },
  {
   "cell_type": "code",
   "execution_count": 1635,
   "metadata": {},
   "outputs": [],
   "source": [
    "#build up a map of all distances of keys frome each other and doors required\n",
    "def distances_map(data):\n",
    "    layout, keys = load_map(data)\n",
    "    \n",
    "    distance_map = {}\n",
    "    \n",
    "    for key in keys:\n",
    "        distance_map[key] = bfs(keys[key][0], keys[key][1], layout)\n",
    "    \n",
    "    return distance_map"
   ]
  },
  {
   "cell_type": "code",
   "execution_count": 1636,
   "metadata": {},
   "outputs": [],
   "source": [
    "#recursive solver of shortest distance using distance map\n",
    "def solver(d_map, current_location, keys_collected, steps, memo):\n",
    "    \n",
    "    keys_collected.add(current_location)\n",
    "    solution = float('Inf')\n",
    "    \n",
    "    memo_key = current_location + '-' + ''.join(sorted(list(keys_collected)))\n",
    "    \n",
    "    #base case\n",
    "    if keys_collected == set(d_map.keys()):\n",
    "        return steps\n",
    "    \n",
    "    #if already found the min number of steps for this path\n",
    "    elif memo_key in memo:\n",
    "        return memo[memo_key] + steps\n",
    "    \n",
    "    for distance in d_map[current_location]:\n",
    "        if distance[0] not in keys_collected and distance[2] <= keys_collected:#  and distance[0] != '@':\n",
    "            solution = min(solution, solver(d_map, distance[0], keys_collected.copy(), distance[1], memo))\n",
    "    \n",
    "    memo[memo_key] = solution\n",
    "    \n",
    "    return solution + steps"
   ]
  },
  {
   "cell_type": "code",
   "execution_count": 1637,
   "metadata": {},
   "outputs": [],
   "source": [
    "memo = defaultdict(list)\n",
    "assert solver(distances_map(load_data(\"day18test1\")), '@', set(), 0, memo) == 86\n",
    "\n",
    "memo = defaultdict(list)\n",
    "assert solver(distances_map(load_data(\"day18test2\")), '@', set(), 0, memo) == 132\n",
    "\n",
    "memo = defaultdict(list)\n",
    "assert solver(distances_map(load_data(\"day18test3\")), '@', set(), 0, memo) == 136\n",
    "\n",
    "memo = defaultdict(list)\n",
    "assert solver(distances_map(load_data(\"day18test4\")), '@', set(), 0, memo) == 81"
   ]
  },
  {
   "cell_type": "code",
   "execution_count": 1638,
   "metadata": {},
   "outputs": [
    {
     "name": "stdout",
     "output_type": "stream",
     "text": [
      "Total steps to solve: 5808\n"
     ]
    }
   ],
   "source": [
    "memo = defaultdict(list)\n",
    "print(\"Total steps to solve: \" + str(solver(distances_map(load_data(\"day18\")), '@', set(), 0, memo)))"
   ]
  },
  {
   "cell_type": "markdown",
   "metadata": {},
   "source": [
    "#### Part 2\n",
    "\n",
    "Run BFS over each quadrant.  Assume any keys not in the quadrant will get found in the other quadrants.  Sum the BFS solution from each of the quadrants. "
   ]
  },
  {
   "cell_type": "code",
   "execution_count": 1730,
   "metadata": {},
   "outputs": [],
   "source": [
    "#build up a map of all distances of keys frome each other and doors required\n",
    "def distances_map_override(data, start):\n",
    "    layout, keys = load_map(data)\n",
    "    keys['@'] = start\n",
    "    distance_map = {}\n",
    "\n",
    "    for key in keys:\n",
    "        distance_map[key] = bfs(keys[key][0], keys[key][1], layout)\n",
    "    \n",
    "    return distance_map"
   ]
  },
  {
   "cell_type": "code",
   "execution_count": 1731,
   "metadata": {},
   "outputs": [
    {
     "name": "stdout",
     "output_type": "stream",
     "text": [
      "Steps to solve quadrant: 620\n",
      "Steps to solve quadrant: 232\n",
      "Steps to solve quadrant: 442\n",
      "Steps to solve quadrant: 698\n",
      "Overall steps: 1992\n"
     ]
    }
   ],
   "source": [
    "start_locations = [[39,39], [41,39], [39,41],[41,41]]\n",
    "\n",
    "steps = 0\n",
    "\n",
    "for start in start_locations:\n",
    "    memo = defaultdict(list)\n",
    "    \n",
    "    d_map = distances_map_override(load_data(\"day18pt2\"), start)\n",
    "    quadrant_keys = set()\n",
    "    \n",
    "    for k in d_map['@']:\n",
    "        quadrant_keys.add(k[0])\n",
    "    \n",
    "    not_quadrant_keys = set('abcdefghijklmnopqrstuvwxyz') - quadrant_keys\n",
    "    \n",
    "    q_steps = solver(d_map, '@', not_quadrant_keys, 0, memo)\n",
    "    steps+= q_steps\n",
    "    \n",
    "    print(\"Steps to solve quadrant: \" + str(q_steps))\n",
    "    \n",
    "print(\"Overall steps: \" + str(steps))"
   ]
  },
  {
   "cell_type": "markdown",
   "metadata": {},
   "source": [
    "## Day 19- Tractor Beam\n",
    "\n",
    "#### Part 1\n",
    "\n",
    "Brute force solution.  Scan through 50x50 space and count number of points the drone returns as '1' or in the tractor beam."
   ]
  },
  {
   "cell_type": "code",
   "execution_count": 1802,
   "metadata": {},
   "outputs": [
    {
     "name": "stdout",
     "output_type": "stream",
     "text": [
      "Beam size: 164\n"
     ]
    }
   ],
   "source": [
    "beam = 0\n",
    "\n",
    "arr = [[0 for _ in range(50)] for _ in range(50)]\n",
    "\n",
    "for x in range(0,50):\n",
    "    for y in range(0,50):\n",
    "    \n",
    "        #deploy drone\n",
    "        drone = ic.intcode_computer(load_data(\"day19\").read())\n",
    "\n",
    "        #initalize drone\n",
    "        while drone.getInstruct() != 3:\n",
    "            drone.run()\n",
    "        \n",
    "        output = int(drone.run([x,y]))\n",
    "        #send drone\n",
    "        beam += output\n",
    "        arr[x][y] = output\n",
    "    \n",
    "print(\"Beam size: \" + str(beam))"
   ]
  },
  {
   "cell_type": "code",
   "execution_count": 1803,
   "metadata": {},
   "outputs": [
    {
     "data": {
      "image/png": "[encoded data removed]",
      "text/plain": [
       "<Figure size 432x288 with 1 Axes>"
      ]
     },
     "metadata": {
      "needs_background": "light"
     },
     "output_type": "display_data"
    }
   ],
   "source": [
    "#visualize beam\n",
    "array = np.array(arr, dtype=np.uint8)\n",
    "plt.imshow(array,interpolation='nearest')\n",
    "plt.show()"
   ]
  },
  {
   "cell_type": "markdown",
   "metadata": {},
   "source": [
    "#### Part 2\n",
    "\n",
    "Brute force solution again.  Could have probably sped it up using binary search or another clever approach."
   ]
  },
  {
   "cell_type": "code",
   "execution_count": 1807,
   "metadata": {},
   "outputs": [],
   "source": [
    "def send_drone(x,y):        \n",
    "    drone = ic.intcode_computer(load_data(\"day19\").read())\n",
    "\n",
    "    #initalize drone\n",
    "    while drone.getInstruct() != 3:\n",
    "        drone.run()\n",
    "\n",
    "    return int(drone.run([x,y]))"
   ]
  },
  {
   "cell_type": "code",
   "execution_count": 1808,
   "metadata": {},
   "outputs": [],
   "source": [
    "def find_tractor(square_size):\n",
    "    \n",
    "    prev_x = 0\n",
    "    \n",
    "    for y in range(1040,10000):\n",
    "        \n",
    "        #advance forward until at left edge\n",
    "        while send_drone(prev_x,y) != 1:\n",
    "            prev_x += 1\n",
    "\n",
    "        for x in range(prev_x , 10000):\n",
    "            \n",
    "            #if top right corner of square is zero\n",
    "            if send_drone(x + square_size - 1,y) == 0:\n",
    "                break\n",
    "\n",
    "            elif send_drone(x,y + square_size - 1) == 0:\n",
    "                continue\n",
    "                \n",
    "            elif send_drone(x + square_size - 1,y + square_size - 1) == 0:\n",
    "                break\n",
    "                \n",
    "            else:\n",
    "                print(\"X: \" + str(x))\n",
    "                print(\"Y: \" + str(y))\n",
    "                return x*10000 + y\n",
    "        \n",
    "    "
   ]
  },
  {
   "cell_type": "code",
   "execution_count": 1809,
   "metadata": {},
   "outputs": [
    {
     "name": "stdout",
     "output_type": "stream",
     "text": [
      "X: 1308\n",
      "Y: 1049\n",
      "Answer is : 13081049\n"
     ]
    }
   ],
   "source": [
    "print(\"Answer is : \" + str(find_tractor(100)))"
   ]
  },
  {
   "cell_type": "markdown",
   "metadata": {},
   "source": [
    "## Day 20-  Donut Maze\n",
    "\n",
    "#### Part 1\n",
    "\n",
    "Search over maze to find all portals and create a dictionary to store the coordinates of all portal pairs within the maze.  Once we have those pairs we can use BFS to find the distance needed to travel from the start to the end."
   ]
  },
  {
   "cell_type": "code",
   "execution_count": 1907,
   "metadata": {},
   "outputs": [],
   "source": [
    "def find_portals(maze):\n",
    "\n",
    "    portals = defaultdict(list)\n",
    "    \n",
    "    uppercase = 'ABCDEFGHIJKLMNOPQRSTUVWXYZ'\n",
    "    \n",
    "    #scan for portals\n",
    "    for i in range(1, len(maze) - 1):\n",
    "        for j in range(1, len(maze[0]) - 1):\n",
    "\n",
    "            \n",
    "            if maze[i][j] in uppercase:\n",
    "                #top portal\n",
    "                if maze[i-1][j] in uppercase and maze[i+1][j] == '.':\n",
    "                    portal = maze[i-1][j] + maze[i][j]\n",
    "                    portals[portal].append((i+1, j))\n",
    "                    \n",
    "                #bottom portal:\n",
    "                elif maze[i+1][j] in uppercase and maze[i-1][j] == '.':\n",
    "                    portal = maze[i][j] + maze[i+1][j]\n",
    "                    portals[portal].append((i-1, j))\n",
    "                    \n",
    "                #left portal:\n",
    "                elif maze[i][j-1] in uppercase and maze[i][j+1] == '.':\n",
    "                    portal = maze[i][j-1] + maze[i][j]\n",
    "                    portals[portal].append((i, j + 1))\n",
    "                    \n",
    "                #right portal:\n",
    "                elif maze[i][j+1] in uppercase and maze[i][j-1] == '.':\n",
    "                    portal = maze[i][j] + maze[i][j + 1]\n",
    "                    portals[portal].append((i, j - 1))\n",
    "                    \n",
    "    start = portals['AA'][0]\n",
    "    end = portals['ZZ'][0]\n",
    "    \n",
    "    swaps = {}\n",
    "    \n",
    "    for portal in portals:\n",
    "        if portal != 'AA' and portal != 'ZZ':\n",
    "            swaps[portals[portal][0]], swaps[portals[portal][1]] = portals[portal][1], portals[portal][0]\n",
    "    \n",
    "    return [start, end, swaps, portals]"
   ]
  },
  {
   "cell_type": "code",
   "execution_count": 1986,
   "metadata": {},
   "outputs": [],
   "source": [
    "def bfs(start, target, swaps, maze):\n",
    "    visited = set()\n",
    "    \n",
    "    stack = [[start, 0]]\n",
    "    \n",
    "    while stack:\n",
    "        #print(stack)\n",
    "        \n",
    "        loc, steps = stack.pop(0)\n",
    "        \n",
    "        if loc not in visited:\n",
    "            visited.add(loc)\n",
    "        \n",
    "        else:\n",
    "            continue\n",
    "            \n",
    "        if loc == target:\n",
    "            return steps\n",
    "        \n",
    "        x, y = loc\n",
    "        \n",
    "        neighbours = [(x+1,y), (x-1,y),(x,y+1),(x,y-1)]\n",
    "        \n",
    "        for n in neighbours:\n",
    "            if n not in visited and maze[n[0]][n[1]] == \".\":\n",
    "                stack.append([n, steps + 1])\n",
    "                \n",
    "        if loc in swaps:\n",
    "            if swaps[loc] not in visited:\n",
    "                stack.append([swaps[loc], steps + 1])\n",
    "                    \n",
    "    return -1"
   ]
  },
  {
   "cell_type": "code",
   "execution_count": 1987,
   "metadata": {},
   "outputs": [],
   "source": [
    "def solve_maze(data):\n",
    "    print(\"loading...\")\n",
    "    maze = data.split(\"\\n\")[:-1]\n",
    "    maze = [list(i) for i in maze]\n",
    "    \n",
    "    print('find portals...')\n",
    "    portals = find_portals(maze)\n",
    "    \n",
    "    print('solving..')\n",
    "    return bfs(portals[0], portals[1], portals[2], maze)"
   ]
  },
  {
   "cell_type": "code",
   "execution_count": 1988,
   "metadata": {},
   "outputs": [
    {
     "name": "stdout",
     "output_type": "stream",
     "text": [
      "loading...\n",
      "find portals...\n",
      "solving..\n",
      "loading...\n",
      "find portals...\n",
      "solving..\n",
      "Number of steps is: 490\n"
     ]
    }
   ],
   "source": [
    "assert solve_maze(load_data(\"day20test\").read()) == 58\n",
    "print(\"Number of steps is: \" + str(solve_maze(load_data(\"day20\").read())))"
   ]
  },
  {
   "cell_type": "markdown",
   "metadata": {},
   "source": [
    "#### Part 2\n",
    "\n",
    "Slight modification to add a third dimension Z to track in the BFS.  The Z dimension represents how many levels deep the search has travelled."
   ]
  },
  {
   "cell_type": "code",
   "execution_count": 2121,
   "metadata": {},
   "outputs": [],
   "source": [
    "def bfs_recurse(start, target, swaps, maze):\n",
    "    visited = set()\n",
    "    \n",
    "    start = (start[0], start[1], 0)\n",
    "    target = (target[0], target[1], 0)\n",
    "    \n",
    "    stack = [[start, 0]]\n",
    "    \n",
    "    while stack:\n",
    "        #print(stack)\n",
    "        \n",
    "        loc, steps = stack.pop(0)\n",
    "        swap_key = (loc[0], loc[1])\n",
    "        \n",
    "        #add to visited\n",
    "        if loc not in visited:\n",
    "            visited.add(loc)\n",
    "        \n",
    "        #if already visited move on\n",
    "        else:\n",
    "            continue\n",
    "        \n",
    "        #if target found\n",
    "        if loc == target:\n",
    "            return steps\n",
    "        \n",
    "        \n",
    "        x, y, z = loc\n",
    "        \n",
    "        neighbours = [(x+1,y, z), (x-1,y, z),(x,y+1, z),(x,y-1, z)]\n",
    "        \n",
    "        for n in neighbours:\n",
    "            if n not in visited and maze[n[0]][n[1]] == \".\":\n",
    "                stack.append([n, steps + 1])\n",
    "            \n",
    "        #if location has a portal\n",
    "        if swap_key in swaps:\n",
    "\n",
    "            #if an outer portal\n",
    "            if loc[0] == 2 or loc[0] == len(maze) - 3 or loc[1] == 2 or loc[1] == len(maze[0]) - 3:\n",
    "                \n",
    "                #if not already visited, visit and decrement depth\n",
    "                if (swaps[swap_key][0], swaps[swap_key][1], z - 1) not in visited and z != 0:\n",
    "                    stack.append([(swaps[swap_key][0], swaps[swap_key][1], z - 1), steps + 1])\n",
    "\n",
    "            #if an inner portal\n",
    "            if loc[0] != 2 and loc[0] != len(maze) - 3 and loc[1] != 2 and loc[1] != len(maze[0]) - 3:\n",
    "                \n",
    "                #if not already visited and inner portal visit and increment depth\n",
    "                if (swaps[swap_key][0], swaps[swap_key][1], z + 1) not in visited:\n",
    "                    stack.append([(swaps[swap_key][0], swaps[swap_key][1], z + 1), steps + 1])\n",
    "    return -1"
   ]
  },
  {
   "cell_type": "code",
   "execution_count": 2122,
   "metadata": {},
   "outputs": [],
   "source": [
    "def solve_maze_recurse(data):\n",
    "    print(\"loading...\")\n",
    "    maze = data.split(\"\\n\")[:-1]\n",
    "    maze = [list(i) for i in maze]\n",
    "    \n",
    "    print('find portals...')\n",
    "    portals = find_portals(maze)\n",
    "    \n",
    "    print('solving..')\n",
    "    return bfs_recurse(portals[0], portals[1], portals[2], maze)"
   ]
  },
  {
   "cell_type": "code",
   "execution_count": 2123,
   "metadata": {},
   "outputs": [
    {
     "name": "stdout",
     "output_type": "stream",
     "text": [
      "loading...\n",
      "find portals...\n",
      "solving..\n",
      "loading...\n",
      "find portals...\n",
      "solving..\n",
      "Number of steps is : 5648\n"
     ]
    }
   ],
   "source": [
    "assert solve_maze_recurse(load_data(\"day20test2\").read()) == 396\n",
    "\n",
    "print(\"Number of steps is : \" + str(solve_maze_recurse(load_data(\"day20\").read())))"
   ]
  },
  {
   "cell_type": "markdown",
   "metadata": {},
   "source": [
    "## Day 21-  Springdroid Adventure\n",
    "\n",
    "#### Part 1\n",
    "\n",
    "Part one and two a pretty straight forward.  The trick was figuring out the springdroid script program via manual iteration to figure out how to traverse the path."
   ]
  },
  {
   "cell_type": "code",
   "execution_count": 2124,
   "metadata": {},
   "outputs": [],
   "source": [
    "def convert_ascii(program):\n",
    "    a_prog = []\n",
    "    \n",
    "    for line in program:\n",
    "        for c in line:\n",
    "            a_prog.append(ord(c))\n",
    "            \n",
    "        a_prog.append(ord('\\n'))\n",
    "        \n",
    "    return a_prog"
   ]
  },
  {
   "cell_type": "code",
   "execution_count": 2125,
   "metadata": {},
   "outputs": [
    {
     "name": "stdout",
     "output_type": "stream",
     "text": [
      "['I']\n",
      "Output out of ascii range: 19357761\n"
     ]
    }
   ],
   "source": [
    "springdroid = ic.intcode_computer(load_data(\"day21\").read())\n",
    "#['NOT D J', 'WALK']\n",
    "droid_program = convert_ascii(['NOT C T',\n",
    "                               'AND D T',\n",
    "                               'OR T J',\n",
    "                               'NOT B T',\n",
    "                               'AND D T',\n",
    "                               'OR T J',\n",
    "                               'NOT A T',\n",
    "                               'AND D T',\n",
    "                               'OR T J',\n",
    "                               'WALK'])\n",
    "output = []\n",
    "\n",
    "#input program\n",
    "droid_out = springdroid.run(droid_program)\n",
    "\n",
    "if droid_out:\n",
    "    output.append(chr(int(droid_out)))\n",
    "\n",
    "print(output)\n",
    "\n",
    "while springdroid.getInstruct() != 99:\n",
    "    droid_out = springdroid.run(droid_program)\n",
    "\n",
    "    if droid_out != None and droid_out != '':\n",
    "        if int(droid_out) < 129:\n",
    "            output.append(chr(int(droid_out)))\n",
    "        \n",
    "        else:\n",
    "            print(\"Output out of ascii range: \" + droid_out)\n"
   ]
  },
  {
   "cell_type": "code",
   "execution_count": 2126,
   "metadata": {},
   "outputs": [
    {
     "data": {
      "text/plain": [
       "['Input instructions:', '', 'Walking...', '', '']"
      ]
     },
     "execution_count": 2126,
     "metadata": {},
     "output_type": "execute_result"
    }
   ],
   "source": [
    "''.join(output).split('\\n')"
   ]
  },
  {
   "cell_type": "markdown",
   "metadata": {},
   "source": [
    "#### Part 2"
   ]
  },
  {
   "cell_type": "code",
   "execution_count": 2127,
   "metadata": {},
   "outputs": [
    {
     "name": "stdout",
     "output_type": "stream",
     "text": [
      "['I']\n",
      "Output out of ascii range: 1142249706\n"
     ]
    }
   ],
   "source": [
    "springdroid = ic.intcode_computer(load_data(\"day21\").read())\n",
    "#['NOT D J', 'WALK']\n",
    "droid_program = convert_ascii(['NOT C T',\n",
    "                               'AND D T',\n",
    "                               'AND H T',\n",
    "                               'OR T J',\n",
    "                               'NOT B T',\n",
    "                               'AND D T',\n",
    "                               'AND H T',\n",
    "                               'OR T J',\n",
    "                               'NOT A T',\n",
    "                               'OR T J',\n",
    "                               'RUN'])\n",
    "output = []\n",
    "\n",
    "#input program\n",
    "droid_out = springdroid.run(droid_program)\n",
    "\n",
    "if droid_out:\n",
    "    output.append(chr(int(droid_out)))\n",
    "\n",
    "print(output)\n",
    "\n",
    "while springdroid.getInstruct() != 99:\n",
    "    droid_out = springdroid.run(droid_program)\n",
    "\n",
    "    if droid_out != None and droid_out != '':\n",
    "        if int(droid_out) < 129:\n",
    "            output.append(chr(int(droid_out)))\n",
    "        \n",
    "        else:\n",
    "            print(\"Output out of ascii range: \" + droid_out)"
   ]
  },
  {
   "cell_type": "markdown",
   "metadata": {},
   "source": [
    "## Day 22-  Slam Shuffle\n",
    "\n",
    "#### Part 1\n",
    "\n",
    "Created a space cards class and perform operations on the deck per the input."
   ]
  },
  {
   "cell_type": "code",
   "execution_count": 2136,
   "metadata": {},
   "outputs": [],
   "source": [
    "class space_cards(object):\n",
    "    def __init__(self, size):\n",
    "        self.deck = [i for i in range(size)]\n",
    "    \n",
    "    def deal_new_stack(self):\n",
    "        self.deck = self.deck[::-1]\n",
    "        return\n",
    "    \n",
    "    def print_deck(self):\n",
    "        \n",
    "        return self.deck\n",
    "    \n",
    "    def cut_deck(self, N):\n",
    "        self.deck = self.deck[N:] + self.deck[:N]\n",
    "        return\n",
    "    \n",
    "    def deal_increment(self, increment):\n",
    "        cards = len(self.deck)\n",
    "        new_deck = [0 for _ in range(cards)]\n",
    "        \n",
    "        new_ptr = 0\n",
    "        \n",
    "        for card in self.deck:\n",
    "            new_deck[ new_ptr % cards] = card\n",
    "            new_ptr += increment\n",
    "        \n",
    "        self.deck = new_deck\n",
    "        return"
   ]
  },
  {
   "cell_type": "code",
   "execution_count": 2137,
   "metadata": {},
   "outputs": [],
   "source": [
    "def run_deck(file, deck):\n",
    "\n",
    "    instructions = load_data(file).read().split('\\n')\n",
    "\n",
    "    while instructions:\n",
    "        instr = instructions.pop(0)\n",
    "\n",
    "        if instr == 'deal into new stack':\n",
    "            deck.deal_new_stack()\n",
    "\n",
    "        elif instr[:3] == 'cut':\n",
    "            N = int(instr.split(\" \")[-1])\n",
    "            deck.cut_deck(N)\n",
    "\n",
    "        elif instr[:4] == 'deal':\n",
    "            N = int(instr.split(\" \")[-1])\n",
    "            deck.deal_increment(N)\n",
    "            \n",
    "    return deck.print_deck()"
   ]
  },
  {
   "cell_type": "code",
   "execution_count": 2138,
   "metadata": {},
   "outputs": [],
   "source": [
    "assert run_deck('day22test', space_cards(10)) == [9, 2, 5, 8, 1, 4, 7, 0, 3, 6]\n",
    "assert run_deck('day22test1', space_cards(10)) == [0, 3, 6, 9, 2, 5, 8, 1, 4, 7]\n",
    "assert run_deck('day22test2', space_cards(10)) == [3, 0, 7, 4, 1, 8, 5, 2, 9, 6]\n",
    "assert run_deck('day22test3', space_cards(10)) == [6, 3, 0, 7, 4, 1, 8, 5, 2, 9]"
   ]
  },
  {
   "cell_type": "code",
   "execution_count": 2135,
   "metadata": {},
   "outputs": [
    {
     "name": "stdout",
     "output_type": "stream",
     "text": [
      "Card 2019 is located at: 6638\n"
     ]
    }
   ],
   "source": [
    "print(\"Card 2019 is located at: \" + str(run_deck('day22', space_cards(10007)).index(2019)))"
   ]
  },
  {
   "cell_type": "markdown",
   "metadata": {},
   "source": [
    "#### Part 2\n",
    "\n",
    "The size of the deck and the number of operations makes the approach from part one unfeasible.  This one was tough and only solved with a lot of help at: https://www.reddit.com/r/adventofcode/comments/ee0rqi/2019_day_22_solutions/\n",
    "\n",
    "The card values can be expressed as a linear equation: y = mx + b\n",
    "\n",
    "Where y is the card value at index x.  For an initial deck which starts at 0 and increments by one at each index ( ie  [1,2,3,4] ) b = 0 and m = 1.\n",
    "\n",
    "Each of the operations changes the value of b and m.  After each operator we would mod m and b by the length of the deck.\n",
    "\n",
    "##### 'deal into new stack'\n",
    "\n",
    "This operation reverses the order of the deck.  Which impacts m and b as:\n",
    "\n",
    "m *= -1\n",
    "\n",
    "b += m \n",
    "\n",
    "##### 'cut N'\n",
    "\n",
    "This operation changes the start order of the count.  Which impacts m and b as:\n",
    "\n",
    "b += m * N\n",
    "\n",
    "##### 'To deal with increment N'\n",
    "\n",
    "Multiply m by the modular inverse of the increment by the size of the deck. \n",
    "\n",
    "m *= power(N, deck_size - 2, deck_size) \n",
    "\n",
    "We can use the above formulas to determine the coefficients after one shuffle cycle.  To determine after n cycles:\n",
    "\n",
    "m_final = (m ^ n) % deck_size\n",
    "\n",
    "b_final = b * (1 - final_m) * pow((1 - m) % deck_size, deck_size -2 , deck_size)"
   ]
  },
  {
   "cell_type": "code",
   "execution_count": 2168,
   "metadata": {},
   "outputs": [],
   "source": [
    "def calc_coeff(file, size):\n",
    "\n",
    "    instructions = load_data(file).read().split('\\n')\n",
    "    \n",
    "    m = 1\n",
    "    b = 0\n",
    "\n",
    "    while instructions:\n",
    "        instr = instructions.pop(0)\n",
    "\n",
    "        if instr == 'deal into new stack':\n",
    "            m *= -1\n",
    "            m %= size\n",
    "            \n",
    "            b += m\n",
    "            b %= size\n",
    "\n",
    "        elif instr[:3] == 'cut':\n",
    "            N = int(instr.split(\" \")[-1])\n",
    "            \n",
    "            b += m * N\n",
    "            b %= size\n",
    "\n",
    "        elif instr[:4] == 'deal':\n",
    "            N = int(instr.split(\" \")[-1])\n",
    "            \n",
    "            m *= pow(N, size - 2, size)\n",
    "            m %= size\n",
    "            \n",
    "    return [m, b]"
   ]
  },
  {
   "cell_type": "code",
   "execution_count": 2169,
   "metadata": {},
   "outputs": [],
   "source": [
    "size = 119315717514047\n",
    "iterations = 101741582076661\n",
    "\n",
    "coeffs  = calc_coeff('day22', size)\n",
    "\n",
    "final_m = pow(coeffs[0], iterations, size)\n",
    "final_b = coeffs[1] * (1 - final_m) * pow((1 - coeffs[0]) % size, size -2 , size)\n",
    "\n",
    "final_b %= size"
   ]
  },
  {
   "cell_type": "code",
   "execution_count": 2170,
   "metadata": {},
   "outputs": [
    {
     "name": "stdout",
     "output_type": "stream",
     "text": [
      "Value at index 2020: 77863024474406\n"
     ]
    }
   ],
   "source": [
    "#Get value at index 2020\n",
    "ans = (final_m * 2020 + final_b) % size\n",
    "print(\"Value at index 2020: \" + str(ans))"
   ]
  },
  {
   "cell_type": "markdown",
   "metadata": {},
   "source": [
    "## Day 23-  Category Six\n",
    "\n",
    "#### Part 1 & 2\n",
    "\n",
    "Create an array of 50 computers.  Store a packet queue for each computer in a dictionary.  As we iterate through pass each computer it's queue and update the other queues with any packets the computer sends out."
   ]
  },
  {
   "cell_type": "code",
   "execution_count": 2171,
   "metadata": {},
   "outputs": [
    {
     "name": "stdout",
     "output_type": "stream",
     "text": [
      "NAT Packet Sent: [67789, 22659]\n",
      "NAT Packet Sent: [67789, 21233]\n",
      "NAT Packet Sent: [67789, 20146]\n",
      "NAT Packet Sent: [67789, 19350]\n",
      "NAT Packet Sent: [67789, 18780]\n",
      "NAT Packet Sent: [67789, 18377]\n",
      "NAT Packet Sent: [67789, 18093]\n",
      "NAT Packet Sent: [67789, 17894]\n",
      "NAT Packet Sent: [67789, 17754]\n",
      "NAT Packet Sent: [67789, 17656]\n",
      "NAT Packet Sent: [67789, 17587]\n",
      "NAT Packet Sent: [67789, 17539]\n",
      "NAT Packet Sent: [67789, 17506]\n",
      "NAT Packet Sent: [67789, 17482]\n",
      "NAT Packet Sent: [67789, 17466]\n",
      "NAT Packet Sent: [67789, 17454]\n",
      "NAT Packet Sent: [67789, 17446]\n",
      "NAT Packet Sent: [67789, 17440]\n",
      "NAT Packet Sent: [67789, 17436]\n",
      "NAT Packet Sent: [67789, 17433]\n",
      "NAT Packet Sent: [67789, 17431]\n",
      "NAT Packet Sent: [67789, 17430]\n",
      "NAT Packet Sent: [67789, 17429]\n",
      "NAT Packet Sent: [67789, 17429]\n",
      "17429 sent twice in a row\n"
     ]
    }
   ],
   "source": [
    "computers = []\n",
    "queue = defaultdict(list)\n",
    "\n",
    "nat = [-1,-1]\n",
    "nat_prev_y = -float('Inf')\n",
    "\n",
    "for _ in range(50):\n",
    "    computer = ic.intcode_computer(load_data(\"day23\").read())\n",
    "    \n",
    "    while computer.getInstruct() != 3:\n",
    "        computer.run()\n",
    "    \n",
    "    computers.append(computer)\n",
    "    \n",
    "#initalize each computer\n",
    "for i in range(50):\n",
    "    output = computers[i].run([i])\n",
    "    \n",
    "#run the network\n",
    "search = True\n",
    "\n",
    "while search:\n",
    "\n",
    "    #cycle through computers\n",
    "    for i in range(50):\n",
    "        \n",
    "\n",
    "        #send input to computer\n",
    "        while computers[i].getInstruct() == 3:\n",
    "\n",
    "            if queue[i]:\n",
    "                output = int(computers[i].run([queue[i].pop(0)]))\n",
    "            else:\n",
    "                output = int(computers[i].run([-1]))\n",
    "                break\n",
    "\n",
    "        #get outputs\n",
    "        if output != -1:\n",
    "            outputs = [output]\n",
    "\n",
    "            while computers[i].getInstruct() != 3 and computers[i].getInstruct() != 99:\n",
    "                output = int(computers[i].run())\n",
    "\n",
    "                if output != -1:\n",
    "                    outputs.append(output)\n",
    "\n",
    "            #update queue\n",
    "            for j in range(0, len(outputs) - 1, 3):\n",
    "                if outputs[j] == 255:\n",
    "                    nat[0] = outputs[j + 1]\n",
    "                    nat[1] = outputs[j + 2]\n",
    "                \n",
    "                else:\n",
    "                    queue[outputs[j]].append(outputs[j + 1])\n",
    "                    queue[outputs[j]].append(outputs[j + 2])\n",
    "                \n",
    "    #check if queue is empty send NAT packet to computer 0\n",
    "    if all(value == [] for value in queue.values()) and all(c.getInstruct() == 3 for c in computers):\n",
    "        print(\"NAT Packet Sent: \" + str(nat))\n",
    "        if nat[1] == nat_prev_y:\n",
    "            print(str(nat_prev_y) + \" sent twice in a row\")\n",
    "            search = False\n",
    "            \n",
    "        queue[0].append(nat[0])\n",
    "        queue[0].append(nat[1])\n",
    "        \n",
    "        nat_prev_y = nat[1]        "
   ]
  },
  {
   "cell_type": "markdown",
   "metadata": {},
   "source": [
    "## Day 24-  Planet of Discord\n",
    "\n",
    "#### Part 1\n",
    "\n",
    "Iterate through each location in the array and update according to the rules."
   ]
  },
  {
   "cell_type": "code",
   "execution_count": 2177,
   "metadata": {},
   "outputs": [],
   "source": [
    "def life(bug_map):\n",
    "    \n",
    "    if not bug_map:\n",
    "        return None\n",
    "    \n",
    "    m = len(bug_map)\n",
    "    n = len (bug_map[0])\n",
    "    \n",
    "    new_map = [['.' for _ in range(n)] for _ in range(m)]\n",
    "    \n",
    "    for i in range(m):\n",
    "        for j in range(n):\n",
    "            \n",
    "            #calculate number of neighbours with bugs\n",
    "            neighbours = [[i+1,j], [i-1,j], [i, j+1], [i, j - 1]]\n",
    "            bugs = 0\n",
    "            \n",
    "            for neighbour in neighbours:\n",
    "                x,y = neighbour\n",
    "                \n",
    "                if  0 <= x and x < m and 0 <= y and y < n:\n",
    "                    if bug_map[x][y] == '#':\n",
    "                        bugs += 1\n",
    "                        \n",
    "            if bug_map[i][j] == '#' and bugs == 1:\n",
    "                new_map[i][j] = '#'\n",
    "                \n",
    "            elif bug_map[i][j] == '.' and bugs < 3 and bugs > 0:\n",
    "                new_map[i][j] = '#'\n",
    "                \n",
    "                \n",
    "    return new_map"
   ]
  },
  {
   "cell_type": "code",
   "execution_count": 2178,
   "metadata": {},
   "outputs": [],
   "source": [
    "def create_key(bug_map):\n",
    "    return ''.join([''.join(i) for i in bug_map])"
   ]
  },
  {
   "cell_type": "code",
   "execution_count": 2179,
   "metadata": {},
   "outputs": [],
   "source": [
    "def biodiversity(bug_map):\n",
    "    m = len(bug_map)\n",
    "    n = len (bug_map[0])\n",
    "    \n",
    "    score = 0\n",
    "    \n",
    "    for i in range(m):\n",
    "        for j in range(n):\n",
    "            \n",
    "            if bug_map[i][j] == '#':\n",
    "                score += 2**(i * (n) + j)\n",
    "                \n",
    "    return score"
   ]
  },
  {
   "cell_type": "code",
   "execution_count": 2180,
   "metadata": {},
   "outputs": [
    {
     "name": "stdout",
     "output_type": "stream",
     "text": [
      "Biodiversity score: 30446641\n"
     ]
    }
   ],
   "source": [
    "bug_map = load_data(\"day24\").read().split('\\n')[:-1]\n",
    "bug_map = [list(i) for i in bug_map]\n",
    "\n",
    "seen_maps = set(create_key(bug_map))\n",
    "\n",
    "while True:\n",
    "    bug_map = life(bug_map)\n",
    "    #print('\\n'.join([''.join(i) for i in bug_map]) + '\\n')\n",
    "    \n",
    "    if create_key(bug_map) in seen_maps:\n",
    "        break\n",
    "        \n",
    "    seen_maps.add(create_key(bug_map))\n",
    "    \n",
    "print(\"Biodiversity score: \" + str(biodiversity(bug_map)))"
   ]
  },
  {
   "cell_type": "markdown",
   "metadata": {},
   "source": [
    "#### Part 2\n",
    "\n",
    "Store all the array for all the levels in a 3D array.  First check if the highest or lowest level has started to touch the next recursion level.  If so pad out the levels of the 3d array.\n",
    "\n",
    "I added a dictionary with coordinates for checking neighbours from different recursion levels.  Once those additional neighbours are defined it's just a matter of updating the game per the rules at each step."
   ]
  },
  {
   "cell_type": "code",
   "execution_count": 2188,
   "metadata": {},
   "outputs": [],
   "source": [
    "#check if recursion down needed\n",
    "def recurse_down(b_map):\n",
    "    return b_map[1][2] == '#' or b_map[3][2] == '#' or b_map[2][1] == '#' or b_map[2][3] == '#'"
   ]
  },
  {
   "cell_type": "code",
   "execution_count": 2282,
   "metadata": {},
   "outputs": [],
   "source": [
    "#check if recursion up needed\n",
    "def recurse_up(b_map):\n",
    "    \n",
    "    #top or bottom row\n",
    "    if '#' in b_map[0] or '#' in b_map[4]:\n",
    "        return True\n",
    "    \n",
    "    #left right edges\n",
    "    for i in range(len(b_map)):\n",
    "        if b_map[i][0] == '#' or b_map[i][-1] == '#':\n",
    "            return True\n",
    "        \n",
    "    return False"
   ]
  },
  {
   "cell_type": "code",
   "execution_count": 2283,
   "metadata": {},
   "outputs": [],
   "source": [
    "def life_recursion(bug_map, c_layer):\n",
    "    \n",
    "    neighbours = defaultdict(list)\n",
    "    \n",
    "    \n",
    "    #recurse neighbours\n",
    "    for i in range(0,5):\n",
    "        \n",
    "        ###\n",
    "        #up\n",
    "        \n",
    "        #left edge\n",
    "        neighbours[(i,0)].append((c_layer + 1,2,1))\n",
    "        \n",
    "        #right edge\n",
    "        neighbours[(i,4)].append((c_layer + 1,2,3))\n",
    "        \n",
    "        #top edge\n",
    "        neighbours[(0,i)].append((c_layer + 1,1,2))\n",
    "        \n",
    "        #bottom edge\n",
    "        neighbours[(4,i)].append((c_layer + 1,3,2))\n",
    "        \n",
    "        ###\n",
    "        #down\n",
    "        \n",
    "        #pos 8 and 18\n",
    "        neighbours[(1,2)].append((c_layer - 1,0,i))\n",
    "        neighbours[(3,2)].append((c_layer - 1,4,i))\n",
    "        \n",
    "        #pos 12 and 14\n",
    "        neighbours[(2,1)].append((c_layer - 1,i,0))\n",
    "        neighbours[(2,3)].append((c_layer - 1,i,4))\n",
    "    \n",
    "    if not bug_map:\n",
    "        return None\n",
    "    \n",
    "    layers = len(bug_map)\n",
    "    m = len(bug_map[0])\n",
    "    n = len (bug_map[0][0])\n",
    "    \n",
    "    new_map = [['.' for _ in range(n)] for _ in range(m)]\n",
    "    new_map[2][2] = '?'\n",
    "    \n",
    "    for i in range(m):\n",
    "        for j in range(n):\n",
    "            \n",
    "            #calculate number of neighbours with bugs\n",
    "            std_neighbours = [(c_layer, i+1,j), (c_layer, i-1,j), (c_layer, i, j+1), (c_layer, i, j - 1)]\n",
    "            all_neighbours = std_neighbours + neighbours[(i, j)]\n",
    "            bugs = 0\n",
    "            \n",
    "            for neighbour in all_neighbours:\n",
    "                layer, x, y = neighbour\n",
    "                \n",
    "                if  0 <= x and x < m and 0 <= y and y < n and 0 <= layer and layer < layers:\n",
    "                    if bug_map[layer][x][y] == '#':\n",
    "                        bugs += 1\n",
    "                        \n",
    "            if bug_map[c_layer][i][j] == '#' and bugs == 1:\n",
    "                new_map[i][j] = '#'\n",
    "                \n",
    "            elif bug_map[c_layer][i][j] == '.' and bugs < 3 and bugs > 0:\n",
    "                new_map[i][j] = '#'\n",
    "                \n",
    "                \n",
    "    return new_map"
   ]
  },
  {
   "cell_type": "code",
   "execution_count": 2317,
   "metadata": {},
   "outputs": [],
   "source": [
    "def iterate_life(recurse_map, steps):\n",
    "    \n",
    "    for i in range(steps):\n",
    "    \n",
    "        #check if we need to pad layers\n",
    "        if recurse_up(recurse_map[-1]):\n",
    "            recurse_map.append(empty_map[:])\n",
    "\n",
    "        #check if pad down\n",
    "        if recurse_down(recurse_map[0]):\n",
    "            recurse_map.insert(0, empty_map[:])\n",
    "\n",
    "        new_map = []\n",
    "\n",
    "        for i in range(len(recurse_map)):\n",
    "            new_map.append(life_recursion(recurse_map, i))\n",
    "\n",
    "        recurse_map = new_map[:]\n",
    "        \n",
    "    #count bugs\n",
    "    total_bugs = 0\n",
    "    for layer in range(len(recurse_map)):\n",
    "        for i in range(len(recurse_map[0])):\n",
    "            for j in range(len(recurse_map[0][0])):\n",
    "\n",
    "                if recurse_map[layer][i][j] == '#':\n",
    "                    total_bugs += 1\n",
    "                    \n",
    "    return total_bugs"
   ]
  },
  {
   "cell_type": "code",
   "execution_count": 2318,
   "metadata": {},
   "outputs": [],
   "source": [
    "empty_map = [['.' for _ in range(5)] for _ in range(5)]\n",
    "empty_map[2][2] ='?'\n",
    "\n",
    "bug_map = load_data(\"day24\").read().split('\\n')[:-1]\n",
    "bug_map = [list(i) for i in bug_map]\n",
    "bug_map[2][2] = '?'\n",
    "\n",
    "recurse_map = [bug_map]"
   ]
  },
  {
   "cell_type": "code",
   "execution_count": 2319,
   "metadata": {},
   "outputs": [
    {
     "name": "stdout",
     "output_type": "stream",
     "text": [
      "Total bugs found: 1985\n"
     ]
    }
   ],
   "source": [
    "print(\"Total bugs found: \" + str(iterate_life(recurse_map, 200)))"
   ]
  },
  {
   "cell_type": "markdown",
   "metadata": {},
   "source": [
    "## Day 25-  Cryostasis\n",
    "\n",
    "#### Part 1\n",
    "\n",
    "No clever code here.  Just manually playing the game until the solution was found.\n",
    "\n",
    "The final set of items was: space heater, semiconductor, festive hat, and hypercube"
   ]
  },
  {
   "cell_type": "code",
   "execution_count": 2374,
   "metadata": {},
   "outputs": [],
   "source": [
    "droid = ic.intcode_computer(load_data(\"day25\").read())"
   ]
  },
  {
   "cell_type": "code",
   "execution_count": 2375,
   "metadata": {},
   "outputs": [
    {
     "name": "stdout",
     "output_type": "stream",
     "text": [
      "\n",
      "\n",
      "\n",
      "== Hull Breach ==\n",
      "You got in through a hole in the floor here. To keep your ship from also freezing, the hole has been sealed.\n",
      "\n",
      "Doors here lead:\n",
      "- north\n",
      "- east\n",
      "- south\n",
      "\n",
      "Command?\n",
      "\n",
      "exit\n"
     ]
    }
   ],
   "source": [
    "output_queue = []\n",
    "\n",
    "while True:\n",
    "\n",
    "\n",
    "    while droid.getInstruct() != 3 and droid.getInstruct() != 99:\n",
    "        output = droid.run()\n",
    "\n",
    "        if output != None and output != -1:\n",
    "            output_queue.append(chr(int(output)))\n",
    "\n",
    "    print(''.join(output_queue))\n",
    "    \n",
    "    user = input()\n",
    "    \n",
    "    if user == 'exit':\n",
    "        break\n",
    "        \n",
    "    user = [ord(i) for i in user]\n",
    "    user.append(10)\n",
    "    \n",
    "    output_queue = [droid.run(user)]"
   ]
  },
  {
   "cell_type": "code",
   "execution_count": null,
   "metadata": {},
   "outputs": [],
   "source": []
  }
 ],
 "metadata": {
  "kernelspec": {
   "display_name": "Python 3",
   "language": "python",
   "name": "python3"
  },
  "language_info": {
   "codemirror_mode": {
    "name": "ipython",
    "version": 3
   },
   "file_extension": ".py",
   "mimetype": "text/x-python",
   "name": "python",
   "nbconvert_exporter": "python",
   "pygments_lexer": "ipython3",
   "version": "3.7.4"
  }
 },
 "nbformat": 4,
 "nbformat_minor": 2
}
